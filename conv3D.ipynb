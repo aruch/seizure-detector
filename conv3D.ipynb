{
 "cells": [
  {
   "cell_type": "code",
   "execution_count": 1,
   "metadata": {},
   "outputs": [
    {
     "name": "stderr",
     "output_type": "stream",
     "text": [
      "Using TensorFlow backend.\n"
     ]
    }
   ],
   "source": [
    "import numpy as np\n",
    "import tensorflow as tf\n",
    "from keras.layers import AveragePooling3D"
   ]
  },
  {
   "cell_type": "code",
   "execution_count": 19,
   "metadata": {},
   "outputs": [],
   "source": [
    "import moviepy\n",
    "import imageio\n",
    "import moviepy.editor\n",
    "import numpy as np\n",
    "import imageio\n",
    "import matplotlib.pyplot as plt\n",
    "import matplotlib.image as mpimg\n",
    "import skimage"
   ]
  },
  {
   "cell_type": "code",
   "execution_count": 4,
   "metadata": {},
   "outputs": [],
   "source": [
    "#For Testing\n",
    "vid = moviepy.editor.VideoFileClip('/Users/mikey/Downloads/M2U00020.MPG', 'ffmpeg')"
   ]
  },
  {
   "cell_type": "code",
   "execution_count": 5,
   "metadata": {},
   "outputs": [],
   "source": [
    "#For testing\n",
    "#Convert 3 channel array to single channel gray scale\n",
    "def rgb2gray(rgb):\n",
    "    return np.dot(rgb[...,:3], [0.299, 0.587, 0.114])"
   ]
  },
  {
   "cell_type": "code",
   "execution_count": 42,
   "metadata": {},
   "outputs": [],
   "source": [
    "#For testing\n",
    "# Take in video clip (subclip) and calculate differences of frames on interval (diff_int) in number of frames\n",
    "# Return numpy array of differences\n",
    "\n",
    "def frameDifference(subclip, diff_int, new_y, new_x):\n",
    "    \n",
    "    #Calculate num of frames - rounded down to integer\n",
    "    num_frames = int(subclip.duration*subclip.fps)\n",
    "    \n",
    "    # get dimensions of subclip\n",
    "    [n_y, n_x, n_c] = subclip.get_frame(0).shape\n",
    "\n",
    "    # Create placeholder for numpy array\n",
    "    diff_subclip_np = np.zeros((int(num_frames/diff_int), new_y, new_x), dtype=np.uint8)\n",
    "\n",
    "    # Iterate through slices of subclip and add to numpy array\n",
    "    ii = 0;\n",
    "    for nn in range(0, num_frames - diff_int, diff_int):\n",
    "        diff_frame = (abs(rgb2gray(subclip.get_frame(nn*1/subclip.fps)) - rgb2gray(subclip.get_frame((nn+diff_int)*1/subclip.fps))))\n",
    "        diff_subclip_np[ii, :, :] = np.float32(skimage.transform.resize(diff_frame, [new_y, new_x]))\n",
    "        ii+=1;\n",
    "        \n",
    "    return diff_subclip_np"
   ]
  },
  {
   "cell_type": "code",
   "execution_count": 66,
   "metadata": {},
   "outputs": [],
   "source": [
    "#For testing\n",
    "test = vid.subclip(0, 11)\n",
    "testdiff = frameDifference(test, 10, 100, 100)"
   ]
  },
  {
   "cell_type": "code",
   "execution_count": 67,
   "metadata": {},
   "outputs": [
    {
     "name": "stdout",
     "output_type": "stream",
     "text": [
      "(32, 100, 100)\n"
     ]
    },
    {
     "data": {
      "image/png": "[encoded data removed]",
      "text/plain": [
       "<Figure size 432x288 with 1 Axes>"
      ]
     },
     "metadata": {
      "needs_background": "light"
     },
     "output_type": "display_data"
    }
   ],
   "source": [
    "#For testing\n",
    "plt.imshow(testdiff[0, : ,:])\n",
    "print(testdiff.shape)"
   ]
  },
  {
   "cell_type": "code",
   "execution_count": 118,
   "metadata": {},
   "outputs": [
    {
     "data": {
      "text/plain": [
       "(1, 32, 100, 100, 1)"
      ]
     },
     "execution_count": 118,
     "metadata": {},
     "output_type": "execute_result"
    }
   ],
   "source": [
    "#testing\n",
    "testdiff2 = np.ones([1, 32, 100, 100, 1])\n",
    "testdiff2.shape\n",
    "testdiff2[0, :, :, :, 0] = testdiff\n",
    "testdiff2= np.float32(testdiff2)\n",
    "#type(testdiff[0][0][0])\n",
    "#type(testdiff2[0][0][0][0][0])\n",
    "testdiff2.shape"
   ]
  },
  {
   "cell_type": "code",
   "execution_count": 15,
   "metadata": {},
   "outputs": [],
   "source": [
    "def _weight_variable(name, shape):\n",
    "        return tf.get_variable(name, shape, DTYPE, tf.truncated_normal_initializer(stddev=0.1))"
   ]
  },
  {
   "cell_type": "code",
   "execution_count": 16,
   "metadata": {},
   "outputs": [],
   "source": [
    "def _bias_variable(name, shape):\n",
    "        return tf.get_variable(name, shape, DTYPE, tf.constant_initializer(0.1, dtype=DTYPE))"
   ]
  },
  {
   "cell_type": "code",
   "execution_count": 121,
   "metadata": {},
   "outputs": [],
   "source": [
    "def build_3d_conv_network(processed_images, outputs, output_size=1, filter_size=3):\n",
    "        \n",
    "    #input_data is a numpy array of shape [batch, depth (time), n_x, n_y, channels = 1]\n",
    "    #outputs is ?\n",
    "\n",
    "    prev_layer = processed_images\n",
    "    in_filters = prev_layer.shape[4]\n",
    "\n",
    "\n",
    "    with tf.variable_scope('conv1') as scope:\n",
    "\n",
    "        #kernel shape: [filter_depth, filter_height, filter_width, in_channels, out_channels]\n",
    "\n",
    "        out_filters = 16\n",
    "        kernel = _weight_variable('weights', [filter_size, filter_size, filter_size, in_filters, out_filters]) \n",
    "        conv = tf.nn.conv3d(prev_layer, kernel, strides=[1, 1, 1, 1, 1], padding='SAME')\n",
    "        biases = _bias_variable('biases', [out_filters])\n",
    "        bias = tf.nn.bias_add(conv, biases)\n",
    "        conv1 = tf.nn.relu(bias, name=scope.name)\n",
    "\n",
    "        in_filters = out_filters\n",
    "\n",
    "        #Max pool operation of time domain\n",
    "        pool1 = tf.nn.max_pool3d(conv1, ksize=[1, 2, 1, 1, 1], strides=[1, 2, 1, 1, 1], padding='SAME')\n",
    "        prev_layer = pool1\n",
    "\n",
    "    with tf.variable_scope('conv2') as scope:\n",
    "\n",
    "        #kernel shape: [filter_depth, filter_height, filter_width, in_channels, out_channels]\n",
    "\n",
    "        out_filters = 16\n",
    "        kernel = _weight_variable('weights', [filter_size, filter_size, filter_size, in_filters, out_filters])\n",
    "        conv = tf.nn.conv3d(prev_layer, kernel, strides=[1, 1, 1, 1, 1], padding='SAME')\n",
    "        biases = _bias_variable('biases', [out_filters])\n",
    "        bias = tf.nn.bias_add(conv, biases)\n",
    "        conv2 = tf.nn.relu(bias, name=scope.name)\n",
    "\n",
    "        in_filters = out_filters\n",
    "\n",
    "        #Max pool operation of time domain\n",
    "        pool2 = tf.nn.max_pool3d(conv2, ksize=[1, 2, 1, 1, 1], strides=[1, 2, 1, 1, 1], padding='SAME')\n",
    "        prev_layer = pool2\n",
    "\n",
    "    with tf.variable_scope('conv3') as scope:\n",
    "\n",
    "        #kernel shape: [filter_depth, filter_height, filter_width, in_channels, out_channels]\n",
    "\n",
    "        out_filters = 16\n",
    "        kernel = _weight_variable('weights', [filter_size, filter_size, filter_size, in_filters, out_filters])\n",
    "        conv = tf.nn.conv3d(prev_layer, kernel, strides=[1, 1, 1, 1, 1], padding='SAME')\n",
    "        biases = _bias_variable('biases', [out_filters])\n",
    "        bias = tf.nn.bias_add(conv, biases)\n",
    "        conv3 = tf.nn.relu(bias, name=scope.name)\n",
    "\n",
    "        in_filters = out_filters\n",
    "\n",
    "        #Max pool operation of time domain\n",
    "        pool3 = tf.nn.max_pool3d(conv3, ksize=[1, 2, 1, 1, 1], strides=[1, 2, 1, 1, 1], padding='SAME')\n",
    "        prev_layer = pool3\n",
    "\n",
    "    with tf.variable_scope('conv4') as scope:\n",
    "\n",
    "        #kernel shape: [filter_depth, filter_height, filter_width, in_channels, out_channels]\n",
    "\n",
    "        out_filters = 16\n",
    "        kernel = _weight_variable('weights', [filter_size, filter_size, filter_size, in_filters, out_filters])\n",
    "        conv = tf.nn.conv3d(prev_layer, kernel, strides=[1, 1, 1, 1, 1], padding='SAME')\n",
    "        biases = _bias_variable('biases', [out_filters])\n",
    "        bias = tf.nn.bias_add(conv, biases)\n",
    "        conv4 = tf.nn.relu(bias, name=scope.name)\n",
    "\n",
    "        in_filters = out_filters\n",
    "\n",
    "        #Max pool operation of time domain\n",
    "        pool4 = tf.nn.max_pool3d(conv4, ksize=[1, 2, 1, 1, 1], strides=[1, 2, 1, 1, 1], padding='SAME')\n",
    "        prev_layer = pool4\n",
    "\n",
    "    with tf.variable_scope('conv5') as scope:\n",
    "\n",
    "        #kernel shape: [filter_depth, filter_height, filter_width, in_channels, out_channels]\n",
    "\n",
    "        out_filters = 16\n",
    "        kernel = _weight_variable('weights', [filter_size, filter_size, filter_size, in_filters, out_filters])\n",
    "        conv = tf.nn.conv3d(prev_layer, kernel, strides=[1, 1, 1, 1, 1], padding='SAME')\n",
    "        biases = _bias_variable('biases', [out_filters])\n",
    "        bias = tf.nn.bias_add(conv, biases)\n",
    "        conv5 = tf.nn.relu(bias, name=scope.name)\n",
    "\n",
    "        in_filters = out_filters\n",
    "\n",
    "        #Max pool operation over time domain\n",
    "        pool5 = tf.nn.max_pool3d(conv5, ksize=[1, 2, 1, 1, 1], strides=[1, 2, 1, 1, 1], padding='SAME')\n",
    "        prev_layer = pool5\n",
    "        print(prev_layer.shape)\n",
    "\n",
    "    #Global Average Pooling\n",
    "\n",
    "    conv5_dim_x = prev_layer.shape[2] #Need n_x dimension of last layer for global pool step \n",
    "    conv5_dim_y = prev_layer.shape[3] #Need n_x dimension of last layer for global pool step\n",
    "    \n",
    "    glob_pool = AveragePooling3D(pool_size=(1, conv5_dim_x, conv5_dim_y), strides=(1, 1, 1), dim_ordering='tf')(prev_layer)\n",
    "    prev_layer = glob_pool\n",
    "\n",
    "\n",
    "    #Binary layers\n",
    "\n",
    "    with tf.variable_scope('binary1') as scope:\n",
    "\n",
    "        out_filters = 2\n",
    "        kernel = _weight_variable('weights', [1, 1, 1, in_filters, out_filters]) \n",
    "        conv = tf.nn.conv3d(prev_layer, kernel, strides=[1, 1, 1, 1, 1], padding='SAME')\n",
    "        biases = _bias_variable('biases', [out_filters])\n",
    "        bias = tf.nn.bias_add(conv, biases)\n",
    "        binary = tf.nn.relu(bias, name=scope.name)\n",
    "\n",
    "        in_filters = out_filters\n",
    "        \n",
    "        prev_layer = binary\n",
    "\n",
    "    with tf.variable_scope('binary2') as scope:\n",
    "\n",
    "        out_filters = 2\n",
    "        kernel = _weight_variable('weights', [1, 1, 1, in_filters, out_filters]) \n",
    "        conv = tf.nn.conv3d(prev_layer, kernel, strides=[1, 1, 1, 1, 1], padding='SAME')\n",
    "        biases = _bias_variable('biases', [out_filters])\n",
    "        bias = tf.nn.bias_add(conv, biases)\n",
    "        binary = tf.nn.relu(bias, name=scope.name)\n",
    "\n",
    "        in_filters = out_filters\n",
    "        \n",
    "        prev_layer = binary\n",
    "        \n",
    "    with tf.variable_scope('binary3') as scope:\n",
    "\n",
    "        out_filters = 2\n",
    "        kernel = _weight_variable('weights', [1, 1, 1, in_filters, out_filters]) \n",
    "        conv = tf.nn.conv3d(prev_layer, kernel, strides=[1, 1, 1, 1, 1], padding='SAME')\n",
    "        biases = _bias_variable('biases', [out_filters])\n",
    "        bias = tf.nn.bias_add(conv, biases)\n",
    "        binary = tf.nn.relu(bias, name=scope.name)\n",
    "\n",
    "        in_filters = out_filters\n",
    "        \n",
    "        prev_layer = binary\n",
    "\n",
    "            \n",
    "    #FC --> sigmoid layer --> prediction probability\n",
    "        \n",
    "    x = tf.layers.flatten(prev_layer)\n",
    "    pred = tf.layers.dense(x, output_size, activation=tf.sigmoid)\n",
    "    \n",
    "    \n",
    "    #error = tf.add(tf.multiply(tf.multiply(outputs, -tf.log(pred)), false_neg_pen),\n",
    "              #tf.multiply(tf.subtract(1.0, outputs), -tf.log(tf.subtract(1.0, pred))))\n",
    "    #error = tf.reduce_mean(error)\n",
    "    #t_vars = tf.trainable_variables()\n",
    "    \n",
    "    #error\n",
    "    \n",
    "    #inputs, outputs, pred, error, loss, train_fn\n",
    "    \n",
    "    #loss_l2 = tf.add_n([ tf.nn.l2_loss(v) for v in t_vars\n",
    "                   #if 'bias' not in v.name ]) * reg_pen\n",
    "    #loss = loss_l2 + error\n",
    "    \n",
    "    return pred #, error, loss"
   ]
  },
  {
   "cell_type": "code",
   "execution_count": 122,
   "metadata": {},
   "outputs": [
    {
     "name": "stdout",
     "output_type": "stream",
     "text": [
      "(1, 1, 100, 100, 16)\n",
      "Tensor(\"strided_slice_1:0\", shape=(), dtype=float32)\n"
     ]
    }
   ],
   "source": [
    "#testing function\n",
    "tf.reset_default_graph()\n",
    "with tf.Session() as sess:\n",
    "    \n",
    "    DTYPE = tf.float32\n",
    "    pred = build_3d_conv_network(testdiff2, 1, filter_size=3)\n",
    "    print(pred[0][0])"
   ]
  }
 ],
 "metadata": {
  "kernelspec": {
   "display_name": "Python (env_cs230_a)",
   "language": "python",
   "name": "env_cs230_a"
  },
  "language_info": {
   "codemirror_mode": {
    "name": "ipython",
    "version": 3
   },
   "file_extension": ".py",
   "mimetype": "text/x-python",
   "name": "python",
   "nbconvert_exporter": "python",
   "pygments_lexer": "ipython3",
   "version": "3.6.8"
  }
 },
 "nbformat": 4,
 "nbformat_minor": 2
}
