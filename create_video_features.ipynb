{
 "cells": [
  {
   "cell_type": "code",
   "execution_count": 1,
   "metadata": {},
   "outputs": [],
   "source": [
    "import matplotlib\n",
    "%matplotlib inline\n",
    "import matplotlib.pyplot as plt\n",
    "from tqdm import tqdm_notebook"
   ]
  },
  {
   "cell_type": "code",
   "execution_count": 2,
   "metadata": {},
   "outputs": [],
   "source": [
    "import numpy as np\n",
    "import os\n",
    "import tensorflow as tf\n",
    "\n",
    "try:\n",
    "    import urllib2 as urllib\n",
    "except ImportError:\n",
    "    import urllib.request as urllib\n",
    "\n",
    "from nets import inception\n",
    "\n",
    "from tensorflow.contrib import slim\n",
    "\n",
    "image_size = inception.inception_v4.default_image_size"
   ]
  },
  {
   "cell_type": "code",
   "execution_count": 3,
   "metadata": {},
   "outputs": [],
   "source": [
    "import time\n",
    "import datetime\n",
    "import math"
   ]
  },
  {
   "cell_type": "code",
   "execution_count": 4,
   "metadata": {},
   "outputs": [],
   "source": [
    "import uuid\n",
    "import os"
   ]
  },
  {
   "cell_type": "code",
   "execution_count": 5,
   "metadata": {},
   "outputs": [],
   "source": [
    "import pickle"
   ]
  },
  {
   "cell_type": "code",
   "execution_count": 6,
   "metadata": {},
   "outputs": [],
   "source": [
    "import moviepy\n",
    "import moviepy.editor\n",
    "import numpy as np\n",
    "import matplotlib\n",
    "%matplotlib inline\n",
    "import matplotlib.pyplot as plt\n",
    "import imageio\n",
    "import json\n",
    "import re"
   ]
  },
  {
   "cell_type": "code",
   "execution_count": 7,
   "metadata": {},
   "outputs": [],
   "source": [
    "from box_client import get_box_client"
   ]
  },
  {
   "cell_type": "code",
   "execution_count": 8,
   "metadata": {},
   "outputs": [],
   "source": [
    "client = get_box_client()"
   ]
  },
  {
   "cell_type": "code",
   "execution_count": 9,
   "metadata": {},
   "outputs": [],
   "source": [
    "rat_video_folder = client.folder('61116096312')\n",
    "rat_video_feature_folder = client.folder('67339798174')"
   ]
  },
  {
   "cell_type": "code",
   "execution_count": 10,
   "metadata": {},
   "outputs": [
    {
     "name": "stderr",
     "output_type": "stream",
     "text": [
      "\u001b[31m\"GET https://api.box.com/2.0/folders/61116096312/items?offset=0\" 401 0\n",
      "{'Date': 'Wed, 20 Feb 2019 09:37:15 GMT', 'Transfer-Encoding': 'chunked', 'Connection': 'keep-alive', 'Strict-Transport-Security': 'max-age=31536000', 'WWW-Authenticate': 'Bearer realm=\"Service\", error=\"invalid_token\", error_description=\"The access token provided is invalid.\"', 'BOX-REQUEST-ID': '0dvsvodinrdrk87hu95qa46gh46', 'Age': '0'}\n",
      "b''\n",
      "\u001b[0m\n"
     ]
    },
    {
     "name": "stdout",
     "output_type": "stream",
     "text": [
      "Unable to parse practice seizures at 23 min in 71-2 and 70-3.MPG\n"
     ]
    }
   ],
   "source": [
    "box_video_ids = {}\n",
    "VID_PAT = re.compile(\"(\\w+).(MPG|MP4)$\")\n",
    "for day_folder in rat_video_folder.get_items():\n",
    "    try:\n",
    "        d = datetime.datetime.strptime(day_folder.name, \"%b %d %Y\")\n",
    "        d_str = d.strftime(\"%Y-%m-%d\")\n",
    "        box_video_ids[d_str] = {}\n",
    "    except Exception as e:\n",
    "        print(\"Unable to parse \" + day_folder.name)\n",
    "        continue\n",
    "    for cage_folder in day_folder.get_items():\n",
    "        box_video_ids[d_str][cage_folder.name] = {}\n",
    "        for video in cage_folder.get_items():\n",
    "            m = VID_PAT.match(video.name)\n",
    "            if m:\n",
    "                box_video_ids[d_str][cage_folder.name][m.groups()[0]] = video.id"
   ]
  },
  {
   "cell_type": "code",
   "execution_count": 11,
   "metadata": {},
   "outputs": [],
   "source": [
    "box_feature_folder_ids = {}\n",
    "existing_days = {}\n",
    "for day_folder in rat_video_feature_folder.get_items():\n",
    "    existing_days[day_folder.name] = day_folder.id\n",
    "for day in box_video_ids:\n",
    "    box_feature_folder_ids[day] = {}\n",
    "    if day in existing_days:\n",
    "        day_folder = client.folder(existing_days[day]).get()\n",
    "    else:\n",
    "        day_folder = rat_video_feature_folder.create_subfolder(day)\n",
    "        \n",
    "    existing_pos = {}\n",
    "    for pos in day_folder.get_items():\n",
    "        existing_pos[pos.name] = pos.id\n",
    "    for pos in box_video_ids[day]:\n",
    "        if pos in existing_pos:\n",
    "            pos_folder = client.folder(existing_pos[pos]).get()\n",
    "        else:\n",
    "            pos_folder = day_folder.create_subfolder(pos)\n",
    "            \n",
    "        box_feature_folder_ids[day][pos] = pos_folder.id"
   ]
  },
  {
   "cell_type": "code",
   "execution_count": 12,
   "metadata": {},
   "outputs": [],
   "source": [
    "# Download a file from box\n",
    "# return the path the movie was downloaded to\n",
    "def download_box_movie(client, movie_id):\n",
    "    if not os.path.exists(\"tmp\"):\n",
    "        os.mkdir(\"tmp\")\n",
    "    video_path = os.path.join(\"tmp\", str(uuid.uuid4()))\n",
    "    with open(video_path, \"wb\") as f:\n",
    "        client.file(movie_id).download_to(f)\n",
    "    return video_path"
   ]
  },
  {
   "cell_type": "code",
   "execution_count": 13,
   "metadata": {},
   "outputs": [],
   "source": [
    "# Function take a subclip object defined by moviepy and creates a numpy array of # size of the subclip over the number of frames (numofframes)\n",
    "# Returns the numpy array that should be saved\n",
    "def make_np_array_from_subclip(subclip, num_frames):\n",
    "    \n",
    "    # get dimensions of subclip\n",
    "    [n_y, n_x, n_c] = subclip.get_frame(0).shape\n",
    "\n",
    "    # Create placeholder for numpy array\n",
    "    subclip_np = np.zeros((num_frames, n_y, n_x, n_c), dtype=np.uint8)\n",
    "\n",
    "    # Iterate through slices of subclip and add to numpy array\n",
    "    for nn, frame in enumerate(subclip.iter_frames()):\n",
    "        subclip_np[nn, :,:,:] = frame\n",
    "        \n",
    "    return subclip_np"
   ]
  },
  {
   "cell_type": "code",
   "execution_count": 14,
   "metadata": {},
   "outputs": [],
   "source": [
    "# Turn a hh:mm:ss string to number of seconds\n",
    "# hh: piece is optional\n",
    "\n",
    "HHMMSS_PAT = re.compile(\"(\\d+)??:??(\\d+):(\\d+)$\")\n",
    "def hhmmss_to_seconds(s):\n",
    "    m = HHMMSS_PAT.match(s)\n",
    "    g = m.groups()\n",
    "    s = 0\n",
    "    n = len(g)\n",
    "    for i in range(n):\n",
    "        if g[n-i-1] is not None:\n",
    "            s += 60**i * int(g[n-i-1])\n",
    "    return s"
   ]
  },
  {
   "cell_type": "code",
   "execution_count": 15,
   "metadata": {},
   "outputs": [],
   "source": [
    "# annotation file should be:\n",
    "# {\"video_id\":\n",
    "#    {\"animal_id\": [\"hh:mm:ss\", ...], \"animal_id\": [\"hh:mm:ss\", ...]}\n",
    "# }\n",
    "def load_seizure_annotations(file_path):\n",
    "    with open(file_path) as f:\n",
    "        annotations = json.load(f)\n",
    "    for vid_id, video_fields in annotations.items():\n",
    "        for field, value in video_fields.items():\n",
    "            if isinstance(value, list):\n",
    "                times_in_seconds = [hhmmss_to_seconds(x) for x in value]\n",
    "                annotations[vid_id][field] = times_in_seconds        \n",
    "    return annotations"
   ]
  },
  {
   "cell_type": "code",
   "execution_count": 16,
   "metadata": {},
   "outputs": [],
   "source": [
    "seizure_annotations = load_seizure_annotations(\"seizure_annotations.json\")"
   ]
  },
  {
   "cell_type": "code",
   "execution_count": 17,
   "metadata": {},
   "outputs": [],
   "source": [
    "with open(\"position_annotations.json\") as f:\n",
    "    position_annotations = json.load(f)"
   ]
  },
  {
   "cell_type": "code",
   "execution_count": 18,
   "metadata": {},
   "outputs": [],
   "source": [
    "def build_video_feature_array(clip, window=10, net_output_size=1536):\n",
    "    print(\"Building Video Feature Array\")\n",
    "    duration = int(clip.duration)\n",
    "    fps = round(clip.fps)\n",
    "    frame_features = np.zeros((duration*fps, net_output_size), dtype=np.float32)\n",
    "        \n",
    "    with tf.Graph().as_default():\n",
    "        seq_input = tf.placeholder(tf.int8, (None, None, None, 3))\n",
    "        processed_images = tf.image.convert_image_dtype(seq_input, dtype=tf.float32)\n",
    "        processed_images = tf.image.resize_bilinear(processed_images, [image_size, image_size],\n",
    "                                                    align_corners=False)\n",
    "        processed_images = tf.subtract(processed_images, 0.5)\n",
    "        processed_images = tf.multiply(processed_images, 2.0)\n",
    "\n",
    "        # Create the model, use the default arg scope to configure the batch norm parameters.\n",
    "        with slim.arg_scope(inception.inception_v4_arg_scope()):\n",
    "            logits, end_points = inception.inception_v4(processed_images, \n",
    "                                                        num_classes=1001, \n",
    "                                                        is_training=False)\n",
    "\n",
    "        init_fn = slim.assign_from_checkpoint_fn(\n",
    "            'inception_v4.ckpt',\n",
    "            slim.get_model_variables('InceptionV4'))\n",
    "        \n",
    "        with tf.Session() as sess:\n",
    "            init_fn(sess)\n",
    "\n",
    "            for i in tqdm_notebook(range(math.ceil(duration/window))):\n",
    "                clip_start = i * window\n",
    "                clip_end = min(duration, clip_start + window)\n",
    "                frame_start = clip_start * fps\n",
    "                frame_end = clip_end * fps\n",
    "                vid_clip = clip.subclip(clip_start, clip_end)\n",
    "                np_feed = make_np_array_from_subclip(vid_clip, frame_end - frame_start)\n",
    "                bottleneck, tf_images = sess.run([end_points['PreLogitsFlatten'], processed_images],\n",
    "                                                 feed_dict={seq_input: np_feed})\n",
    "                frame_features[frame_start:frame_end, :] = bottleneck\n",
    "                clip_start = clip_end\n",
    "        return frame_features"
   ]
  },
  {
   "cell_type": "code",
   "execution_count": 19,
   "metadata": {},
   "outputs": [],
   "source": [
    "def upload_slices_to_box(client, video_feature_array, day, position, mouse_id, video_id, \n",
    "                         box_feature_folder_ids, video_fps=30, chunk_size=18000, overlap = 10):\n",
    "    print(\"Uploading Slices to Box\")\n",
    "    n_chunks = math.ceil(video_feature_array.shape[0]/chunk_size)\n",
    "    for i in tqdm_notebook(range(n_chunks)):\n",
    "        start_idx = max(0, i*chunk_size - overlap * video_fps)\n",
    "        end_idx = min((i+1)*chunk_size, video_feature_array.shape[0])\n",
    "        start_time = start_idx / video_fps\n",
    "        \n",
    "        path = \"{:s}_{:s}_{:s}_{:s}_{:d}.npz\".format(day, position, mouse_id, video_id, i)\n",
    "        np.savez(path, features=video_feature_array[start_idx:end_idx, :], \n",
    "                 start_time=start_time)\n",
    "        folder_id = box_feature_folder_ids[day][position]\n",
    "        client.folder(folder_id).upload(path)\n",
    "        os.remove(path)"
   ]
  },
  {
   "cell_type": "code",
   "execution_count": 20,
   "metadata": {},
   "outputs": [],
   "source": [
    "done_movies = [\"MAH00011\", \"MAH00012\", \"MAH00013\", \"MAH00014\"]"
   ]
  },
  {
   "cell_type": "code",
   "execution_count": null,
   "metadata": {},
   "outputs": [
    {
     "name": "stdout",
     "output_type": "stream",
     "text": [
      "Skipping: MAH00011\n",
      "Skipping: MAH00012\n",
      "Skipping: MAH00013\n",
      "Skipping: MAH00014\n",
      "Downloading New Movie: MAH00015, 2019-01-18, 6 up\n",
      "74-1\n",
      "Building Video Feature Array\n",
      "INFO:tensorflow:Restoring parameters from inception_v4.ckpt\n"
     ]
    },
    {
     "data": {
      "application/vnd.jupyter.widget-view+json": {
       "model_id": "590554696d8341838e1ef5af141c1d57",
       "version_major": 2,
       "version_minor": 0
      },
      "text/plain": [
       "HBox(children=(IntProgress(value=0, max=545), HTML(value='')))"
      ]
     },
     "metadata": {},
     "output_type": "display_data"
    },
    {
     "name": "stdout",
     "output_type": "stream",
     "text": [
      "\n",
      "Uploading Slices to Box\n"
     ]
    },
    {
     "data": {
      "application/vnd.jupyter.widget-view+json": {
       "model_id": "222d108e586749b385bc64a90c43dc9a",
       "version_major": 2,
       "version_minor": 0
      },
      "text/plain": [
       "HBox(children=(IntProgress(value=0, max=10), HTML(value='')))"
      ]
     },
     "metadata": {},
     "output_type": "display_data"
    },
    {
     "name": "stdout",
     "output_type": "stream",
     "text": [
      "\n",
      "68-2\n",
      "Building Video Feature Array\n",
      "INFO:tensorflow:Restoring parameters from inception_v4.ckpt\n"
     ]
    },
    {
     "data": {
      "application/vnd.jupyter.widget-view+json": {
       "model_id": "f97652c328ae44fc8c57a089efa75877",
       "version_major": 2,
       "version_minor": 0
      },
      "text/plain": [
       "HBox(children=(IntProgress(value=0, max=545), HTML(value='')))"
      ]
     },
     "metadata": {},
     "output_type": "display_data"
    },
    {
     "name": "stdout",
     "output_type": "stream",
     "text": [
      "\n",
      "Uploading Slices to Box\n"
     ]
    },
    {
     "data": {
      "application/vnd.jupyter.widget-view+json": {
       "model_id": "f43f6f8bb46b47cca29f4f530a6f625d",
       "version_major": 2,
       "version_minor": 0
      },
      "text/plain": [
       "HBox(children=(IntProgress(value=0, max=10), HTML(value='')))"
      ]
     },
     "metadata": {},
     "output_type": "display_data"
    },
    {
     "name": "stdout",
     "output_type": "stream",
     "text": [
      "\n",
      "65-2\n",
      "Building Video Feature Array\n",
      "INFO:tensorflow:Restoring parameters from inception_v4.ckpt\n"
     ]
    },
    {
     "data": {
      "application/vnd.jupyter.widget-view+json": {
       "model_id": "4367a39e8d16471e9cd57f147202d5b9",
       "version_major": 2,
       "version_minor": 0
      },
      "text/plain": [
       "HBox(children=(IntProgress(value=0, max=545), HTML(value='')))"
      ]
     },
     "metadata": {},
     "output_type": "display_data"
    },
    {
     "name": "stdout",
     "output_type": "stream",
     "text": [
      "\n",
      "Uploading Slices to Box\n"
     ]
    },
    {
     "data": {
      "application/vnd.jupyter.widget-view+json": {
       "model_id": "e9e8d51f889441dfbcace5e9ef7d1215",
       "version_major": 2,
       "version_minor": 0
      },
      "text/plain": [
       "HBox(children=(IntProgress(value=0, max=10), HTML(value='')))"
      ]
     },
     "metadata": {},
     "output_type": "display_data"
    },
    {
     "name": "stderr",
     "output_type": "stream",
     "text": [
      "\u001b[31m\"POST https://upload.box.com/api/2.0/files/content\" 401 0\n",
      "{'Date': 'Wed, 20 Feb 2019 10:54:36 GMT', 'Content-Type': 'application/octet-stream; charset=UTF-8', 'Content-Length': '0', 'Connection': 'keep-alive', 'Vary': 'Accept-Encoding', 'WWW-Authenticate': 'Bearer realm=\"Service\", error=\"invalid_token\", error_description=\"The access token provided is invalid.\"', 'Age': '148', 'Strict-Transport-Security': 'max-age=31536000'}\n",
      "b''\n",
      "\u001b[0m\n"
     ]
    },
    {
     "name": "stdout",
     "output_type": "stream",
     "text": [
      "\n",
      "73-2\n",
      "Building Video Feature Array\n",
      "INFO:tensorflow:Restoring parameters from inception_v4.ckpt\n"
     ]
    },
    {
     "data": {
      "application/vnd.jupyter.widget-view+json": {
       "model_id": "e7025c963af948259b51034fb32c77bc",
       "version_major": 2,
       "version_minor": 0
      },
      "text/plain": [
       "HBox(children=(IntProgress(value=0, max=545), HTML(value='')))"
      ]
     },
     "metadata": {},
     "output_type": "display_data"
    },
    {
     "name": "stdout",
     "output_type": "stream",
     "text": [
      "\n",
      "Uploading Slices to Box\n"
     ]
    },
    {
     "data": {
      "application/vnd.jupyter.widget-view+json": {
       "model_id": "03d52033f9f6409c8fda3ad0c98eaddf",
       "version_major": 2,
       "version_minor": 0
      },
      "text/plain": [
       "HBox(children=(IntProgress(value=0, max=10), HTML(value='')))"
      ]
     },
     "metadata": {},
     "output_type": "display_data"
    },
    {
     "name": "stdout",
     "output_type": "stream",
     "text": [
      "\n",
      "70-1\n",
      "Building Video Feature Array\n",
      "INFO:tensorflow:Restoring parameters from inception_v4.ckpt\n"
     ]
    },
    {
     "data": {
      "application/vnd.jupyter.widget-view+json": {
       "model_id": "7642f73833e74342bb4cf617302e87b6",
       "version_major": 2,
       "version_minor": 0
      },
      "text/plain": [
       "HBox(children=(IntProgress(value=0, max=545), HTML(value='')))"
      ]
     },
     "metadata": {},
     "output_type": "display_data"
    },
    {
     "name": "stdout",
     "output_type": "stream",
     "text": [
      "\n",
      "Uploading Slices to Box\n"
     ]
    },
    {
     "data": {
      "application/vnd.jupyter.widget-view+json": {
       "model_id": "01ae83c095d846539b3d73285662e40a",
       "version_major": 2,
       "version_minor": 0
      },
      "text/plain": [
       "HBox(children=(IntProgress(value=0, max=10), HTML(value='')))"
      ]
     },
     "metadata": {},
     "output_type": "display_data"
    },
    {
     "name": "stdout",
     "output_type": "stream",
     "text": [
      "\n",
      "73-3\n",
      "Building Video Feature Array\n",
      "INFO:tensorflow:Restoring parameters from inception_v4.ckpt\n"
     ]
    },
    {
     "data": {
      "application/vnd.jupyter.widget-view+json": {
       "model_id": "d2180bc5e6f14c159044ac7a44e62e6d",
       "version_major": 2,
       "version_minor": 0
      },
      "text/plain": [
       "HBox(children=(IntProgress(value=0, max=545), HTML(value='')))"
      ]
     },
     "metadata": {},
     "output_type": "display_data"
    },
    {
     "name": "stdout",
     "output_type": "stream",
     "text": [
      "\n",
      "Uploading Slices to Box\n"
     ]
    },
    {
     "data": {
      "application/vnd.jupyter.widget-view+json": {
       "model_id": "8067dabcb3bb45ed8ccba92641cff22f",
       "version_major": 2,
       "version_minor": 0
      },
      "text/plain": [
       "HBox(children=(IntProgress(value=0, max=10), HTML(value='')))"
      ]
     },
     "metadata": {},
     "output_type": "display_data"
    },
    {
     "name": "stderr",
     "output_type": "stream",
     "text": [
      "\u001b[31m\"POST https://upload.box.com/api/2.0/files/content\" 401 0\n",
      "{'Date': 'Wed, 20 Feb 2019 12:18:07 GMT', 'Content-Type': 'application/octet-stream; charset=UTF-8', 'Content-Length': '0', 'Connection': 'keep-alive', 'Vary': 'Accept-Encoding', 'WWW-Authenticate': 'Bearer realm=\"Service\", error=\"invalid_token\", error_description=\"The access token provided is invalid.\"', 'Age': '148', 'Strict-Transport-Security': 'max-age=31536000'}\n",
      "b''\n",
      "\u001b[0m\n"
     ]
    },
    {
     "name": "stdout",
     "output_type": "stream",
     "text": [
      "\n",
      "Downloading New Movie: MAH00016, 2019-01-18, 6 up\n",
      "74-1\n",
      "Building Video Feature Array\n",
      "INFO:tensorflow:Restoring parameters from inception_v4.ckpt\n"
     ]
    },
    {
     "data": {
      "application/vnd.jupyter.widget-view+json": {
       "model_id": "fecb426bda5a40019da2fa4a19d75913",
       "version_major": 2,
       "version_minor": 0
      },
      "text/plain": [
       "HBox(children=(IntProgress(value=0, max=407), HTML(value='')))"
      ]
     },
     "metadata": {},
     "output_type": "display_data"
    },
    {
     "name": "stdout",
     "output_type": "stream",
     "text": [
      "\n",
      "Uploading Slices to Box\n"
     ]
    },
    {
     "data": {
      "application/vnd.jupyter.widget-view+json": {
       "model_id": "cde412ccf7a64a94a5241eeb7e9fdc8f",
       "version_major": 2,
       "version_minor": 0
      },
      "text/plain": [
       "HBox(children=(IntProgress(value=0, max=7), HTML(value='')))"
      ]
     },
     "metadata": {},
     "output_type": "display_data"
    },
    {
     "name": "stdout",
     "output_type": "stream",
     "text": [
      "\n",
      "68-2\n",
      "Building Video Feature Array\n",
      "INFO:tensorflow:Restoring parameters from inception_v4.ckpt\n"
     ]
    },
    {
     "data": {
      "application/vnd.jupyter.widget-view+json": {
       "model_id": "c97f146a51ed47a1ad109f6876403676",
       "version_major": 2,
       "version_minor": 0
      },
      "text/plain": [
       "HBox(children=(IntProgress(value=0, max=407), HTML(value='')))"
      ]
     },
     "metadata": {},
     "output_type": "display_data"
    },
    {
     "name": "stdout",
     "output_type": "stream",
     "text": [
      "\n",
      "Uploading Slices to Box\n"
     ]
    },
    {
     "data": {
      "application/vnd.jupyter.widget-view+json": {
       "model_id": "b4eca88f8276428eb46c921e264ced38",
       "version_major": 2,
       "version_minor": 0
      },
      "text/plain": [
       "HBox(children=(IntProgress(value=0, max=7), HTML(value='')))"
      ]
     },
     "metadata": {},
     "output_type": "display_data"
    },
    {
     "name": "stdout",
     "output_type": "stream",
     "text": [
      "\n",
      "65-2\n",
      "Building Video Feature Array\n",
      "INFO:tensorflow:Restoring parameters from inception_v4.ckpt\n"
     ]
    },
    {
     "data": {
      "application/vnd.jupyter.widget-view+json": {
       "model_id": "8ad84f3a0d38469daaaa437428bf17ca",
       "version_major": 2,
       "version_minor": 0
      },
      "text/plain": [
       "HBox(children=(IntProgress(value=0, max=407), HTML(value='')))"
      ]
     },
     "metadata": {},
     "output_type": "display_data"
    },
    {
     "name": "stdout",
     "output_type": "stream",
     "text": [
      "\n",
      "Uploading Slices to Box\n"
     ]
    },
    {
     "data": {
      "application/vnd.jupyter.widget-view+json": {
       "model_id": "830c5738aadb4eed81adff0b61c22ae1",
       "version_major": 2,
       "version_minor": 0
      },
      "text/plain": [
       "HBox(children=(IntProgress(value=0, max=7), HTML(value='')))"
      ]
     },
     "metadata": {},
     "output_type": "display_data"
    },
    {
     "name": "stderr",
     "output_type": "stream",
     "text": [
      "\u001b[31m\"POST https://upload.box.com/api/2.0/files/content\" 401 0\n",
      "{'Date': 'Wed, 20 Feb 2019 13:26:20 GMT', 'Content-Type': 'application/octet-stream; charset=UTF-8', 'Content-Length': '0', 'Connection': 'keep-alive', 'Vary': 'Accept-Encoding', 'WWW-Authenticate': 'Bearer realm=\"Service\", error=\"invalid_token\", error_description=\"The access token provided is invalid.\"', 'Age': '152', 'Strict-Transport-Security': 'max-age=31536000'}\n",
      "b''\n",
      "\u001b[0m\n"
     ]
    },
    {
     "name": "stdout",
     "output_type": "stream",
     "text": [
      "\n",
      "73-2\n",
      "Building Video Feature Array\n",
      "INFO:tensorflow:Restoring parameters from inception_v4.ckpt\n"
     ]
    },
    {
     "data": {
      "application/vnd.jupyter.widget-view+json": {
       "model_id": "2c7273bbbafb49c5a52f613d1f97bb7a",
       "version_major": 2,
       "version_minor": 0
      },
      "text/plain": [
       "HBox(children=(IntProgress(value=0, max=407), HTML(value='')))"
      ]
     },
     "metadata": {},
     "output_type": "display_data"
    },
    {
     "name": "stdout",
     "output_type": "stream",
     "text": [
      "\n",
      "Uploading Slices to Box\n"
     ]
    },
    {
     "data": {
      "application/vnd.jupyter.widget-view+json": {
       "model_id": "f26a0f23981443cc9ac511e3833519b9",
       "version_major": 2,
       "version_minor": 0
      },
      "text/plain": [
       "HBox(children=(IntProgress(value=0, max=7), HTML(value='')))"
      ]
     },
     "metadata": {},
     "output_type": "display_data"
    },
    {
     "name": "stdout",
     "output_type": "stream",
     "text": [
      "\n",
      "70-1\n",
      "Building Video Feature Array\n",
      "INFO:tensorflow:Restoring parameters from inception_v4.ckpt\n"
     ]
    },
    {
     "data": {
      "application/vnd.jupyter.widget-view+json": {
       "model_id": "2c4a46bfecfd4988b40063810b3ad06a",
       "version_major": 2,
       "version_minor": 0
      },
      "text/plain": [
       "HBox(children=(IntProgress(value=0, max=407), HTML(value='')))"
      ]
     },
     "metadata": {},
     "output_type": "display_data"
    },
    {
     "name": "stdout",
     "output_type": "stream",
     "text": [
      "\n",
      "Uploading Slices to Box\n"
     ]
    },
    {
     "data": {
      "application/vnd.jupyter.widget-view+json": {
       "model_id": "d9f42173eadb45d1ae2a567c544da12e",
       "version_major": 2,
       "version_minor": 0
      },
      "text/plain": [
       "HBox(children=(IntProgress(value=0, max=7), HTML(value='')))"
      ]
     },
     "metadata": {},
     "output_type": "display_data"
    },
    {
     "name": "stdout",
     "output_type": "stream",
     "text": [
      "\n",
      "73-3\n",
      "Building Video Feature Array\n",
      "INFO:tensorflow:Restoring parameters from inception_v4.ckpt\n"
     ]
    },
    {
     "data": {
      "application/vnd.jupyter.widget-view+json": {
       "model_id": "c27a9ed5cd9b4e5894725f870df688cd",
       "version_major": 2,
       "version_minor": 0
      },
      "text/plain": [
       "HBox(children=(IntProgress(value=0, max=407), HTML(value='')))"
      ]
     },
     "metadata": {},
     "output_type": "display_data"
    },
    {
     "name": "stdout",
     "output_type": "stream",
     "text": [
      "\n",
      "Uploading Slices to Box\n"
     ]
    },
    {
     "data": {
      "application/vnd.jupyter.widget-view+json": {
       "model_id": "db615a01b5974c0ba7a09f76508ae1b4",
       "version_major": 2,
       "version_minor": 0
      },
      "text/plain": [
       "HBox(children=(IntProgress(value=0, max=7), HTML(value='')))"
      ]
     },
     "metadata": {},
     "output_type": "display_data"
    },
    {
     "name": "stderr",
     "output_type": "stream",
     "text": [
      "\u001b[31m\"POST https://upload.box.com/api/2.0/files/content\" 401 0\n",
      "{'Date': 'Wed, 20 Feb 2019 14:34:08 GMT', 'Content-Type': 'application/octet-stream; charset=UTF-8', 'Content-Length': '0', 'Connection': 'keep-alive', 'Vary': 'Accept-Encoding', 'WWW-Authenticate': 'Bearer realm=\"Service\", error=\"invalid_token\", error_description=\"The access token provided is invalid.\"', 'Age': '150', 'Strict-Transport-Security': 'max-age=31536000'}\n",
      "b''\n",
      "\u001b[0m\n"
     ]
    },
    {
     "name": "stdout",
     "output_type": "stream",
     "text": [
      "\n",
      "Downloading New Movie: MAH00019, 2019-01-20, 6 up\n",
      "74-1\n",
      "Building Video Feature Array\n",
      "INFO:tensorflow:Restoring parameters from inception_v4.ckpt\n"
     ]
    },
    {
     "data": {
      "application/vnd.jupyter.widget-view+json": {
       "model_id": "e161f8074bb849ee8a2f740d5b0b54b4",
       "version_major": 2,
       "version_minor": 0
      },
      "text/plain": [
       "HBox(children=(IntProgress(value=0, max=545), HTML(value='')))"
      ]
     },
     "metadata": {},
     "output_type": "display_data"
    },
    {
     "name": "stdout",
     "output_type": "stream",
     "text": [
      "\n",
      "Uploading Slices to Box\n"
     ]
    },
    {
     "data": {
      "application/vnd.jupyter.widget-view+json": {
       "model_id": "19b97f05911940049398bce39ccef117",
       "version_major": 2,
       "version_minor": 0
      },
      "text/plain": [
       "HBox(children=(IntProgress(value=0, max=10), HTML(value='')))"
      ]
     },
     "metadata": {},
     "output_type": "display_data"
    },
    {
     "name": "stdout",
     "output_type": "stream",
     "text": [
      "\n",
      "68-2\n",
      "Building Video Feature Array\n",
      "INFO:tensorflow:Restoring parameters from inception_v4.ckpt\n"
     ]
    },
    {
     "data": {
      "application/vnd.jupyter.widget-view+json": {
       "model_id": "61eb923f52f34727accc673dbba4f67d",
       "version_major": 2,
       "version_minor": 0
      },
      "text/plain": [
       "HBox(children=(IntProgress(value=0, max=545), HTML(value='')))"
      ]
     },
     "metadata": {},
     "output_type": "display_data"
    },
    {
     "name": "stdout",
     "output_type": "stream",
     "text": [
      "\n",
      "Uploading Slices to Box\n"
     ]
    },
    {
     "data": {
      "application/vnd.jupyter.widget-view+json": {
       "model_id": "35c191f159cd4b0cb75006ad0861d052",
       "version_major": 2,
       "version_minor": 0
      },
      "text/plain": [
       "HBox(children=(IntProgress(value=0, max=10), HTML(value='')))"
      ]
     },
     "metadata": {},
     "output_type": "display_data"
    },
    {
     "name": "stdout",
     "output_type": "stream",
     "text": [
      "\n",
      "65-2\n",
      "Building Video Feature Array\n",
      "INFO:tensorflow:Restoring parameters from inception_v4.ckpt\n"
     ]
    },
    {
     "data": {
      "application/vnd.jupyter.widget-view+json": {
       "model_id": "048f9192ad664fe291955fac386d6f04",
       "version_major": 2,
       "version_minor": 0
      },
      "text/plain": [
       "HBox(children=(IntProgress(value=0, max=545), HTML(value='')))"
      ]
     },
     "metadata": {},
     "output_type": "display_data"
    },
    {
     "name": "stdout",
     "output_type": "stream",
     "text": [
      "\n",
      "Uploading Slices to Box\n"
     ]
    },
    {
     "data": {
      "application/vnd.jupyter.widget-view+json": {
       "model_id": "20b14526acad43248dd1a1681c0d424c",
       "version_major": 2,
       "version_minor": 0
      },
      "text/plain": [
       "HBox(children=(IntProgress(value=0, max=10), HTML(value='')))"
      ]
     },
     "metadata": {},
     "output_type": "display_data"
    },
    {
     "name": "stderr",
     "output_type": "stream",
     "text": [
      "\u001b[31m\"POST https://upload.box.com/api/2.0/files/content\" 401 0\n",
      "{'Date': 'Wed, 20 Feb 2019 15:50:42 GMT', 'Content-Type': 'application/octet-stream; charset=UTF-8', 'Content-Length': '0', 'Connection': 'keep-alive', 'Vary': 'Accept-Encoding', 'WWW-Authenticate': 'Bearer realm=\"Service\", error=\"invalid_token\", error_description=\"The access token provided is invalid.\"', 'Age': '148', 'Strict-Transport-Security': 'max-age=31536000'}\n",
      "b''\n",
      "\u001b[0m\n"
     ]
    },
    {
     "name": "stdout",
     "output_type": "stream",
     "text": [
      "\n",
      "73-2\n",
      "Building Video Feature Array\n",
      "INFO:tensorflow:Restoring parameters from inception_v4.ckpt\n"
     ]
    },
    {
     "data": {
      "application/vnd.jupyter.widget-view+json": {
       "model_id": "a87844273f8b4ad486ba98ab536bc81e",
       "version_major": 2,
       "version_minor": 0
      },
      "text/plain": [
       "HBox(children=(IntProgress(value=0, max=545), HTML(value='')))"
      ]
     },
     "metadata": {},
     "output_type": "display_data"
    },
    {
     "name": "stdout",
     "output_type": "stream",
     "text": [
      "\n",
      "Uploading Slices to Box\n"
     ]
    },
    {
     "data": {
      "application/vnd.jupyter.widget-view+json": {
       "model_id": "8e8b708f88ca4892a8bcdb3e1c5d2732",
       "version_major": 2,
       "version_minor": 0
      },
      "text/plain": [
       "HBox(children=(IntProgress(value=0, max=10), HTML(value='')))"
      ]
     },
     "metadata": {},
     "output_type": "display_data"
    },
    {
     "name": "stdout",
     "output_type": "stream",
     "text": [
      "\n",
      "70-1\n",
      "Building Video Feature Array\n",
      "INFO:tensorflow:Restoring parameters from inception_v4.ckpt\n"
     ]
    },
    {
     "data": {
      "application/vnd.jupyter.widget-view+json": {
       "model_id": "fb33f72e13e94270aa2a1ddf4bcf00ca",
       "version_major": 2,
       "version_minor": 0
      },
      "text/plain": [
       "HBox(children=(IntProgress(value=0, max=545), HTML(value='')))"
      ]
     },
     "metadata": {},
     "output_type": "display_data"
    },
    {
     "name": "stdout",
     "output_type": "stream",
     "text": [
      "\n",
      "Uploading Slices to Box\n"
     ]
    },
    {
     "data": {
      "application/vnd.jupyter.widget-view+json": {
       "model_id": "de8bf60031434892a4f95e6ccd2ea2c4",
       "version_major": 2,
       "version_minor": 0
      },
      "text/plain": [
       "HBox(children=(IntProgress(value=0, max=10), HTML(value='')))"
      ]
     },
     "metadata": {},
     "output_type": "display_data"
    },
    {
     "name": "stderr",
     "output_type": "stream",
     "text": [
      "\u001b[31m\"POST https://upload.box.com/api/2.0/files/content\" 401 0\n",
      "{'Date': 'Wed, 20 Feb 2019 16:57:08 GMT', 'Content-Type': 'application/octet-stream; charset=UTF-8', 'Content-Length': '0', 'Connection': 'keep-alive', 'Vary': 'Accept-Encoding', 'WWW-Authenticate': 'Bearer realm=\"Service\", error=\"invalid_token\", error_description=\"The access token provided is invalid.\"', 'Age': '150', 'Strict-Transport-Security': 'max-age=31536000'}\n",
      "b''\n",
      "\u001b[0m\n"
     ]
    },
    {
     "name": "stdout",
     "output_type": "stream",
     "text": [
      "\n",
      "73-3\n",
      "Building Video Feature Array\n",
      "INFO:tensorflow:Restoring parameters from inception_v4.ckpt\n"
     ]
    },
    {
     "data": {
      "application/vnd.jupyter.widget-view+json": {
       "model_id": "84fed666e34743b58329812fc9ce65aa",
       "version_major": 2,
       "version_minor": 0
      },
      "text/plain": [
       "HBox(children=(IntProgress(value=0, max=545), HTML(value='')))"
      ]
     },
     "metadata": {},
     "output_type": "display_data"
    },
    {
     "name": "stdout",
     "output_type": "stream",
     "text": [
      "\n",
      "Uploading Slices to Box\n"
     ]
    },
    {
     "data": {
      "application/vnd.jupyter.widget-view+json": {
       "model_id": "4addb5739eab4f5dad50d2aa1a8b84a2",
       "version_major": 2,
       "version_minor": 0
      },
      "text/plain": [
       "HBox(children=(IntProgress(value=0, max=10), HTML(value='')))"
      ]
     },
     "metadata": {},
     "output_type": "display_data"
    },
    {
     "name": "stdout",
     "output_type": "stream",
     "text": [
      "\n",
      "Downloading New Movie: MAH00018, 2019-01-20, 6 up\n",
      "74-1\n",
      "Building Video Feature Array\n",
      "INFO:tensorflow:Restoring parameters from inception_v4.ckpt\n"
     ]
    },
    {
     "data": {
      "application/vnd.jupyter.widget-view+json": {
       "model_id": "b0127d1d1ba248429f7d11f37280500d",
       "version_major": 2,
       "version_minor": 0
      },
      "text/plain": [
       "HBox(children=(IntProgress(value=0, max=545), HTML(value='')))"
      ]
     },
     "metadata": {},
     "output_type": "display_data"
    },
    {
     "name": "stdout",
     "output_type": "stream",
     "text": [
      "\n",
      "Uploading Slices to Box\n"
     ]
    },
    {
     "data": {
      "application/vnd.jupyter.widget-view+json": {
       "model_id": "bfd15484e2924d558a62a6457f90a840",
       "version_major": 2,
       "version_minor": 0
      },
      "text/plain": [
       "HBox(children=(IntProgress(value=0, max=10), HTML(value='')))"
      ]
     },
     "metadata": {},
     "output_type": "display_data"
    },
    {
     "name": "stdout",
     "output_type": "stream",
     "text": [
      "\n",
      "68-2\n",
      "Building Video Feature Array\n",
      "INFO:tensorflow:Restoring parameters from inception_v4.ckpt\n"
     ]
    },
    {
     "data": {
      "application/vnd.jupyter.widget-view+json": {
       "model_id": "8ae2cea8f08d48b390e81e930f656cc2",
       "version_major": 2,
       "version_minor": 0
      },
      "text/plain": [
       "HBox(children=(IntProgress(value=0, max=545), HTML(value='')))"
      ]
     },
     "metadata": {},
     "output_type": "display_data"
    },
    {
     "name": "stdout",
     "output_type": "stream",
     "text": [
      "\n",
      "Uploading Slices to Box\n"
     ]
    },
    {
     "data": {
      "application/vnd.jupyter.widget-view+json": {
       "model_id": "94d01bd7619b4ec3afa8f4c5dadeb6d6",
       "version_major": 2,
       "version_minor": 0
      },
      "text/plain": [
       "HBox(children=(IntProgress(value=0, max=10), HTML(value='')))"
      ]
     },
     "metadata": {},
     "output_type": "display_data"
    },
    {
     "name": "stderr",
     "output_type": "stream",
     "text": [
      "\u001b[31m\"POST https://upload.box.com/api/2.0/files/content\" 401 0\n",
      "{'Date': 'Wed, 20 Feb 2019 18:12:31 GMT', 'Content-Type': 'application/octet-stream; charset=UTF-8', 'Content-Length': '0', 'Connection': 'keep-alive', 'Vary': 'Accept-Encoding', 'WWW-Authenticate': 'Bearer realm=\"Service\", error=\"invalid_token\", error_description=\"The access token provided is invalid.\"', 'Age': '148', 'Strict-Transport-Security': 'max-age=31536000'}\n",
      "b''\n",
      "\u001b[0m\n"
     ]
    },
    {
     "name": "stdout",
     "output_type": "stream",
     "text": [
      "\n",
      "65-2\n",
      "Building Video Feature Array\n",
      "INFO:tensorflow:Restoring parameters from inception_v4.ckpt\n"
     ]
    },
    {
     "data": {
      "application/vnd.jupyter.widget-view+json": {
       "model_id": "4e5f79bb78db42d9bb44f2925beeebb6",
       "version_major": 2,
       "version_minor": 0
      },
      "text/plain": [
       "HBox(children=(IntProgress(value=0, max=545), HTML(value='')))"
      ]
     },
     "metadata": {},
     "output_type": "display_data"
    },
    {
     "name": "stdout",
     "output_type": "stream",
     "text": [
      "\n",
      "Uploading Slices to Box\n"
     ]
    },
    {
     "data": {
      "application/vnd.jupyter.widget-view+json": {
       "model_id": "d54e1ced652344fab2c31dba9edb1769",
       "version_major": 2,
       "version_minor": 0
      },
      "text/plain": [
       "HBox(children=(IntProgress(value=0, max=10), HTML(value='')))"
      ]
     },
     "metadata": {},
     "output_type": "display_data"
    },
    {
     "name": "stdout",
     "output_type": "stream",
     "text": [
      "\n",
      "73-2\n",
      "Building Video Feature Array\n",
      "INFO:tensorflow:Restoring parameters from inception_v4.ckpt\n"
     ]
    },
    {
     "data": {
      "application/vnd.jupyter.widget-view+json": {
       "model_id": "9e0d603c4a6b4ca7b2f423ba57e41514",
       "version_major": 2,
       "version_minor": 0
      },
      "text/plain": [
       "HBox(children=(IntProgress(value=0, max=545), HTML(value='')))"
      ]
     },
     "metadata": {},
     "output_type": "display_data"
    },
    {
     "name": "stdout",
     "output_type": "stream",
     "text": [
      "\n",
      "Uploading Slices to Box\n"
     ]
    },
    {
     "data": {
      "application/vnd.jupyter.widget-view+json": {
       "model_id": "7ebf708cc80f4435a55f506f6bde9e03",
       "version_major": 2,
       "version_minor": 0
      },
      "text/plain": [
       "HBox(children=(IntProgress(value=0, max=10), HTML(value='')))"
      ]
     },
     "metadata": {},
     "output_type": "display_data"
    },
    {
     "name": "stderr",
     "output_type": "stream",
     "text": [
      "\u001b[31m\"POST https://upload.box.com/api/2.0/files/content\" 401 0\n",
      "{'Date': 'Wed, 20 Feb 2019 19:18:57 GMT', 'Content-Type': 'application/octet-stream; charset=UTF-8', 'Content-Length': '0', 'Connection': 'keep-alive', 'Vary': 'Accept-Encoding', 'WWW-Authenticate': 'Bearer realm=\"Service\", error=\"invalid_token\", error_description=\"The access token provided is invalid.\"', 'Age': '152', 'Strict-Transport-Security': 'max-age=31536000'}\n",
      "b''\n",
      "\u001b[0m\n"
     ]
    },
    {
     "name": "stdout",
     "output_type": "stream",
     "text": [
      "\n",
      "70-1\n",
      "Building Video Feature Array\n",
      "INFO:tensorflow:Restoring parameters from inception_v4.ckpt\n"
     ]
    },
    {
     "data": {
      "application/vnd.jupyter.widget-view+json": {
       "model_id": "147b457327244832bea82e9d8153d8d4",
       "version_major": 2,
       "version_minor": 0
      },
      "text/plain": [
       "HBox(children=(IntProgress(value=0, max=545), HTML(value='')))"
      ]
     },
     "metadata": {},
     "output_type": "display_data"
    },
    {
     "name": "stdout",
     "output_type": "stream",
     "text": [
      "\n",
      "Uploading Slices to Box\n"
     ]
    },
    {
     "data": {
      "application/vnd.jupyter.widget-view+json": {
       "model_id": "06c6c5b7648e4a32bb77bc38e26ab222",
       "version_major": 2,
       "version_minor": 0
      },
      "text/plain": [
       "HBox(children=(IntProgress(value=0, max=10), HTML(value='')))"
      ]
     },
     "metadata": {},
     "output_type": "display_data"
    },
    {
     "name": "stdout",
     "output_type": "stream",
     "text": [
      "\n",
      "73-3\n",
      "Building Video Feature Array\n",
      "INFO:tensorflow:Restoring parameters from inception_v4.ckpt\n"
     ]
    },
    {
     "data": {
      "application/vnd.jupyter.widget-view+json": {
       "model_id": "dc2c62e8efc44290be9daf195ed56874",
       "version_major": 2,
       "version_minor": 0
      },
      "text/plain": [
       "HBox(children=(IntProgress(value=0, max=545), HTML(value='')))"
      ]
     },
     "metadata": {},
     "output_type": "display_data"
    },
    {
     "name": "stdout",
     "output_type": "stream",
     "text": [
      "\n",
      "Uploading Slices to Box\n"
     ]
    },
    {
     "data": {
      "application/vnd.jupyter.widget-view+json": {
       "model_id": "a1ec8c2f1e564a179b025f96a00cfc36",
       "version_major": 2,
       "version_minor": 0
      },
      "text/plain": [
       "HBox(children=(IntProgress(value=0, max=10), HTML(value='')))"
      ]
     },
     "metadata": {},
     "output_type": "display_data"
    },
    {
     "name": "stdout",
     "output_type": "stream",
     "text": [
      "\n",
      "Downloading New Movie: MAH00020, 2019-01-20, 6 up\n",
      "74-1\n",
      "Building Video Feature Array\n",
      "INFO:tensorflow:Restoring parameters from inception_v4.ckpt\n"
     ]
    },
    {
     "data": {
      "application/vnd.jupyter.widget-view+json": {
       "model_id": "f167c31b8e814dd7bff7130a810c60db",
       "version_major": 2,
       "version_minor": 0
      },
      "text/plain": [
       "HBox(children=(IntProgress(value=0, max=545), HTML(value='')))"
      ]
     },
     "metadata": {},
     "output_type": "display_data"
    }
   ],
   "source": [
    "for vid_id, vid_metadata in seizure_annotations.items():\n",
    "    if vid_id in done_movies:\n",
    "        print(\"Skipping: {:s}\".format(vid_id))\n",
    "        continue\n",
    "    d = vid_metadata[\"date\"]\n",
    "    pos = vid_metadata[\"position\"]\n",
    "    movie_id = box_video_ids[d][pos][vid_id]\n",
    "    \n",
    "    print(\"Downloading New Movie: {:s}, {:s}, {:s}\".format(vid_id, d, pos))\n",
    "    vid_file_path = download_box_movie(client, movie_id)\n",
    "    vid = moviepy.editor.VideoFileClip(vid_file_path)\n",
    "    \n",
    "    for animal_id, seizure_times in vid_metadata.items():\n",
    "        if not isinstance(seizure_times, list):\n",
    "            continue\n",
    "        print(animal_id)\n",
    "        cropped_clip = moviepy.video.fx.all.crop(vid, \n",
    "                                                 x1=position_annotations[pos][animal_id][\"x1\"], \n",
    "                                                 y1=position_annotations[pos][animal_id][\"y1\"], \n",
    "                                                 x2=position_annotations[pos][animal_id][\"x2\"],\n",
    "                                                 y2=position_annotations[pos][animal_id][\"y2\"])\n",
    "        x = build_video_feature_array(cropped_clip)\n",
    "        upload_slices_to_box(client, x, d, pos, animal_id, vid_id, box_feature_folder_ids)\n",
    "        \n",
    "    os.remove(vid_file_path)"
   ]
  },
  {
   "cell_type": "code",
   "execution_count": null,
   "metadata": {},
   "outputs": [],
   "source": []
  }
 ],
 "metadata": {
  "kernelspec": {
   "display_name": "Python 3",
   "language": "python",
   "name": "python3"
  },
  "language_info": {
   "codemirror_mode": {
    "name": "ipython",
    "version": 3
   },
   "file_extension": ".py",
   "mimetype": "text/x-python",
   "name": "python",
   "nbconvert_exporter": "python",
   "pygments_lexer": "ipython3",
   "version": "3.6.8"
  }
 },
 "nbformat": 4,
 "nbformat_minor": 2
}
