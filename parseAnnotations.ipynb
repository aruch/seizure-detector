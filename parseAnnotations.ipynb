{
 "cells": [
  {
   "cell_type": "code",
   "execution_count": 350,
   "metadata": {},
   "outputs": [],
   "source": [
    "import pandas as pd\n",
    "import numpy as np\n",
    "import re\n",
    "import math\n",
    "import xlrd\n",
    "import datetime\n",
    "import pprint"
   ]
  },
  {
   "cell_type": "code",
   "execution_count": 351,
   "metadata": {},
   "outputs": [],
   "source": [
    "def convertDate(date):\n",
    "    date = '2019-' + date[0:-2] + '-' + date[-2:]\n",
    "    return date\n",
    "\n",
    "#date = '2019-' + test_date[-4:].replace('/', '-')"
   ]
  },
  {
   "cell_type": "code",
   "execution_count": 352,
   "metadata": {},
   "outputs": [],
   "source": [
    "# Turn a hh:mm:ss string to number of seconds\n",
    "# hh: piece is optional\n",
    "\n",
    "HHMMSS_PAT = re.compile(\"(\\d+)??:??(\\d+):(\\d+)$\")\n",
    "def hhmmss_to_seconds(s):\n",
    "    m = HHMMSS_PAT.match(s)\n",
    "    g = m.groups()\n",
    "    s = 0\n",
    "    n = len(g)\n",
    "    for i in range(n):\n",
    "        if g[n-i-1] is not None:\n",
    "            s += 60**i * int(g[n-i-1])\n",
    "    return s"
   ]
  },
  {
   "cell_type": "code",
   "execution_count": 353,
   "metadata": {},
   "outputs": [],
   "source": [
    "def convertTime(time):\n",
    "    if time == time:\n",
    "        converted = []\n",
    "        time = time.replace(\" \", \"\")\n",
    "        for item in time.split(','):\n",
    "            time_to_convert = item.split('/')[0]\n",
    "            converted.append(hhmmss_to_seconds(time_to_convert))\n",
    "    else:\n",
    "        converted = []\n",
    "    return converted"
   ]
  },
  {
   "cell_type": "code",
   "execution_count": 354,
   "metadata": {
    "scrolled": true
   },
   "outputs": [],
   "source": [
    "def parseSheet(test_csv, date, position, mouse_labels):\n",
    "    test_dict = {}\n",
    "    log = []\n",
    "    \n",
    "    #Check that date location is correct\n",
    "    try:\n",
    "        isinstance(test_csv.columns.values[1], datetime.datetime)\n",
    "    except:\n",
    "            return test_dict, ['Date (or file more generally) is possibly not formatted correctly']\n",
    "    \n",
    "    #Check that Video information is in expected location\n",
    "    try:\n",
    "        isinstance(test_csv.loc[2][0], str)\n",
    "    except:\n",
    "            return test_dict, ['File is possibly not formatted correctly']\n",
    "    \n",
    "    #Parse excel sheets\n",
    "    for item in test_csv.iterrows():\n",
    "        if item[0]>3 and item[1][0] is np.nan:       #An empty row indicates end of confident annotations in file\n",
    "            break\n",
    "        elif item[0]>3:\n",
    "            try:          \n",
    "                seizures = {}\n",
    "                date_dict = {}\n",
    "                pos_dict = {}\n",
    "                for i, key in enumerate(mouse_labels):\n",
    "                    seizures[key] = convertTime(item[1][i+2])\n",
    "                date_dict[date] = seizures\n",
    "                pos_dict[position] = date_dict\n",
    "                test_dict[item[1][0]] = pos_dict\n",
    "            except Exception as error:\n",
    "                    log_key = item[1][0] + '_' + 'line' + str(item[0] + 2) + ',  ' + str(error)\n",
    "                    log.append(log_key)\n",
    "                    print('There was an issue with the annotation for sheet %s, movie %s' % (date, item[1][0]))\n",
    "                \n",
    "    return test_dict, log"
   ]
  },
  {
   "cell_type": "code",
   "execution_count": 355,
   "metadata": {},
   "outputs": [],
   "source": [
    "#Annotation spreadsheet params\n",
    "\n",
    "params_dict = {\n",
    "    \n",
    "    '3': (('66-2', '70-3', '72-2'), '/Users/mikey/Downloads/Folder3.xlsx'),\n",
    "    '4': (('65-3', '74-2','71-2', '65-1'), '/Users/mikey/Downloads/Folder4.xlsx'),\n",
    "    '6 up': (('74-1', '68-2', '65-2', '73-2', '70-1', '73-3'), '/Users/mikey/Downloads/6UP.xlsx'),\n",
    "    '6 down': (('73-1', '75-2', '66-1', '69-3', '70-2', '71-1'), '/Users/mikey/Downloads/6down.xlsx')\n",
    "    \n",
    "}"
   ]
  },
  {
   "cell_type": "code",
   "execution_count": 356,
   "metadata": {},
   "outputs": [],
   "source": [
    "#Extract annotations for all videos\n",
    "all_sheets = {}\n",
    "error_log = {'3':{}, '4':{}, '6 up':{}, '6 down':{}}\n",
    "\n",
    "for position, value in params_dict.items():\n",
    "    filename = value[1]\n",
    "    mouse_labels = value[0]\n",
    "    test_xls = pandas.ExcelFile(filename)\n",
    "    for sheet in test_xls.sheet_names:\n",
    "        this_sheet = pandas.read_excel(test_xls, sheet_name=sheet)\n",
    "        date = convertDate(sheet)\n",
    "        new_dict, log = parseSheet(this_sheet, date, position, mouse_labels)\n",
    "        if new_dict:\n",
    "            all_sheets.update(new_dict)\n",
    "        if log:\n",
    "            error_log[position].update({date:log})\n"
   ]
  },
  {
   "cell_type": "code",
   "execution_count": 357,
   "metadata": {},
   "outputs": [
    {
     "name": "stdout",
     "output_type": "stream",
     "text": [
      "Pretty printing has been turned OFF\n",
      "{'3': {},\n",
      " '4': {},\n",
      " '6 down': {'2019-121-19': ['File is possibly not formatted correctly'],\n",
      "            '2019-213-19': ['File is possibly not formatted correctly']},\n",
      " '6 up': {'2019--Q': ['File is possibly not formatted correctly']}}\n"
     ]
    }
   ],
   "source": [
    "%pprint\n",
    "pprint.pprint(error_log)"
   ]
  },
  {
   "cell_type": "code",
   "execution_count": 358,
   "metadata": {},
   "outputs": [],
   "source": [
    "#Export json \n",
    "import json\n",
    "with open('seizure_annotations_v4.json', 'w') as outfile:\n",
    "    json.dump(all_sheets, outfile)"
   ]
  }
 ],
 "metadata": {
  "kernelspec": {
   "display_name": "Python 3",
   "language": "python",
   "name": "python3"
  },
  "language_info": {
   "codemirror_mode": {
    "name": "ipython",
    "version": 3
   },
   "file_extension": ".py",
   "mimetype": "text/x-python",
   "name": "python",
   "nbconvert_exporter": "python",
   "pygments_lexer": "ipython3",
   "version": "3.7.1"
  }
 },
 "nbformat": 4,
 "nbformat_minor": 2
}
