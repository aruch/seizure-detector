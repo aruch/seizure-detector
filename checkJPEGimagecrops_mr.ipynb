{
 "cells": [
  {
   "cell_type": "code",
   "execution_count": 9,
   "metadata": {},
   "outputs": [],
   "source": [
    "import moviepy\n",
    "import moviepy.editor\n",
    "import numpy as np\n",
    "import imageio"
   ]
  },
  {
   "cell_type": "code",
   "execution_count": 12,
   "metadata": {},
   "outputs": [],
   "source": [
    "# need to have imageio-ffmpeg also installed\n",
    "vid = moviepy.editor.VideoFileClip('/Users/mikey/Downloads/Jan21_3_M2U00010.MPG', 'ffmpeg')\n"
   ]
  },
  {
   "cell_type": "code",
   "execution_count": 19,
   "metadata": {},
   "outputs": [],
   "source": [
    "vid_read = imageio.get_reader('/Users/mikey/Downloads/Jan21_3_M2U00010.MPG', 'ffmpeg')"
   ]
  },
  {
   "cell_type": "code",
   "execution_count": 20,
   "metadata": {},
   "outputs": [],
   "source": [
    "imageio.imwrite('Jan21_3_M2U00010.jpg', vid_read.get_data(0))\n"
   ]
  },
  {
   "cell_type": "markdown",
   "metadata": {},
   "source": [
    "# Position 3 videos crop pixel coordinates \n",
    "\n",
    "Width = 346 -  90 = 256;\n",
    "Height = 194 - 9 = 185\n",
    "\n",
    "## 66-2 (box)\n",
    "x1: 90\n",
    "x2: 346\n",
    "y1: 9\n",
    "y2: 194\n",
    "\n",
    "## 70-3 (box)\n",
    "x1: 340\n",
    "x2: 596\n",
    "y1: 15\n",
    "y2: 200\n",
    "\n",
    "## 72-2 (box)\n",
    "x1: 216\n",
    "x2: 472\n",
    "y1: 271\n",
    "y2: 456"
   ]
  },
  {
   "cell_type": "code",
   "execution_count": 16,
   "metadata": {},
   "outputs": [
    {
     "name": "stdout",
     "output_type": "stream",
     "text": [
      "[MoviePy] >>>> Building video test3.mp4\n",
      "[MoviePy] Writing audio in test3TEMP_MPY_wvf_snd.mp3\n"
     ]
    },
    {
     "name": "stderr",
     "output_type": "stream",
     "text": [
      "100%|██████████| 111/111 [00:00<00:00, 231.92it/s]"
     ]
    },
    {
     "name": "stdout",
     "output_type": "stream",
     "text": [
      "[MoviePy] Done.\n",
      "[MoviePy] Writing video test3.mp4\n"
     ]
    },
    {
     "name": "stderr",
     "output_type": "stream",
     "text": [
      "\n",
      " 99%|█████████▉| 150/151 [00:01<00:00, 147.56it/s]\n"
     ]
    },
    {
     "name": "stdout",
     "output_type": "stream",
     "text": [
      "[MoviePy] Done.\n",
      "[MoviePy] >>>> Video ready: test3.mp4 \n",
      "\n"
     ]
    }
   ],
   "source": [
    "#vid_clip = moviepy.video.fx.all.crop(vid, x1 = 90,x2 = 346, y1 = 9, y2 = 194)\n",
    "#vid_clip = moviepy.video.fx.all.crop(vid, x1 = 340, x2 = 596, y1 = 15, y2 = 200)\n",
    "vid_clip = moviepy.video.fx.all.crop(vid, x1 = 216, x2 = 472, y1 = 271, y2 = 456)\n",
    "vid_clip_seiz = vid_clip.subclip(540,545)\n",
    "vid_clip_seiz.write_videofile(\"test3.mp4\", fps =30)"
   ]
  }
 ],
 "metadata": {
  "kernelspec": {
   "display_name": "Python 3",
   "language": "python",
   "name": "python3"
  },
  "language_info": {
   "codemirror_mode": {
    "name": "ipython",
    "version": 3
   },
   "file_extension": ".py",
   "mimetype": "text/x-python",
   "name": "python",
   "nbconvert_exporter": "python",
   "pygments_lexer": "ipython3",
   "version": "3.7.1"
  }
 },
 "nbformat": 4,
 "nbformat_minor": 2
}
