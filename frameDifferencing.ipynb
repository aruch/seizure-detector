{
 "cells": [
  {
   "cell_type": "code",
   "execution_count": 18,
   "metadata": {},
   "outputs": [],
   "source": [
    "import moviepy\n",
    "import moviepy.editor\n",
    "import numpy as np\n",
    "import imageio\n",
    "import matplotlib.pyplot as plt\n",
    "import matplotlib.image as mpimg"
   ]
  },
  {
   "cell_type": "code",
   "execution_count": 19,
   "metadata": {},
   "outputs": [],
   "source": [
    "#Convert 3 channel array to single channel gray scale\n",
    "def rgb2gray(rgb):\n",
    "    return np.dot(rgb[...,:3], [0.299, 0.587, 0.114])"
   ]
  },
  {
   "cell_type": "code",
   "execution_count": 82,
   "metadata": {},
   "outputs": [],
   "source": [
    "#vid = moviepy.editor.VideoFileClip('C:/Users/Steven/Documents/cs230/MAH00015.mp4', 'ffmpeg')"
   ]
  },
  {
   "cell_type": "code",
   "execution_count": null,
   "metadata": {},
   "outputs": [],
   "source": [
    "#Time of video in seconds\n",
    "#vid.fps\n",
    "#vid.duration*29.97\n",
    "#num of frames of video - is kinda slow though\n",
    "#print(len(list(vid.iter_frames())))"
   ]
  },
  {
   "cell_type": "code",
   "execution_count": 149,
   "metadata": {},
   "outputs": [],
   "source": [
    "# Take in video clip (subclip) and calculate differences of frames on interval (diff_int) in number of frames\n",
    "# Return numpy array of differences\n",
    "\n",
    "def frameDifference(subclip, diff_int):\n",
    "    \n",
    "    #Calculate num of frames - rounded down to integer\n",
    "    num_frames = int(subclip.duration*subclip.fps)\n",
    "    \n",
    "    # get dimensions of subclip\n",
    "    [n_y, n_x, n_c] = subclip.get_frame(0).shape\n",
    "\n",
    "    # Create placeholder for numpy array\n",
    "    diff_subclip_np = np.zeros((int(num_frames/diff_int), n_y, n_x), dtype=np.uint8)\n",
    "\n",
    "    # Iterate through slices of subclip and add to numpy array\n",
    "    ii = 0;\n",
    "    for nn in range(0, num_frames - diff_int, diff_int):\n",
    "        diff_subclip_np[ii, :, :] = abs(rgb2gray(subclip.get_frame(nn*1/subclip.fps)) - rgb2gray(subclip.get_frame((nn+diff_int)*1/subclip.fps)))\n",
    "        ii+=1;\n",
    "        \n",
    "    return diff_subclip_np"
   ]
  },
  {
   "cell_type": "code",
   "execution_count": null,
   "metadata": {},
   "outputs": [],
   "source": []
  }
 ],
 "metadata": {
  "kernelspec": {
   "display_name": "Python 3",
   "language": "python",
   "name": "python3"
  },
  "language_info": {
   "codemirror_mode": {
    "name": "ipython",
    "version": 3
   },
   "file_extension": ".py",
   "mimetype": "text/x-python",
   "name": "python",
   "nbconvert_exporter": "python",
   "pygments_lexer": "ipython3",
   "version": "3.6.3"
  }
 },
 "nbformat": 4,
 "nbformat_minor": 2
}
