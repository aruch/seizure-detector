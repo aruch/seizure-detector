{
 "cells": [
  {
   "cell_type": "code",
   "execution_count": 2,
   "metadata": {},
   "outputs": [],
   "source": [
    "import numpy as np\n",
    "import random\n",
    "import json\n",
    "import pandas as pd\n",
    "import pprint"
   ]
  },
  {
   "cell_type": "code",
   "execution_count": 4,
   "metadata": {},
   "outputs": [],
   "source": [
    "def gen_random_hyperparams(param_grid, iteration):\n",
    "    \n",
    "    # Randomly sample from dictionary\n",
    "    random_hyperparams = {k: random.sample(v, 1)[0] for k, v in param_grid.items()}\n",
    "\n",
    "    return random_hyperparams, iteration\n",
    "    "
   ]
  },
  {
   "cell_type": "code",
   "execution_count": 13,
   "metadata": {},
   "outputs": [],
   "source": [
    "def sample_random_hyperparams(directory, num_samples):\n",
    "    \n",
    "    #Import grid of parameter values stored in json file\n",
    "    with open(directory, \"r\") as read_file:\n",
    "        param_grid = json.load(read_file)\n",
    "    \n",
    "    #Create pandas dataframe structure to hold parameters in structed format (unless you think a dict is better?)\n",
    "    hyperparams = pd.DataFrame(columns = ['params', 'iteration'],\n",
    "                                  index = list(range(num_samples)))\n",
    "    \n",
    "    #Generate num_samples random samples\n",
    "    for i in range(num_samples):\n",
    "        hyperparams.loc[i, :] = gen_random_hyperparams(param_grid, i)\n",
    "        \n",
    "    \n",
    "    return hyperparams\n",
    "    "
   ]
  }
 ],
 "metadata": {
  "kernelspec": {
   "display_name": "Python 3",
   "language": "python",
   "name": "python3"
  },
  "language_info": {
   "codemirror_mode": {
    "name": "ipython",
    "version": 3
   },
   "file_extension": ".py",
   "mimetype": "text/x-python",
   "name": "python",
   "nbconvert_exporter": "python",
   "pygments_lexer": "ipython3",
   "version": "3.7.1"
  }
 },
 "nbformat": 4,
 "nbformat_minor": 2
}
