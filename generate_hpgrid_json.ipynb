{
 "cells": [
  {
   "cell_type": "code",
   "execution_count": 2,
   "metadata": {},
   "outputs": [],
   "source": [
    "import json\n",
    "import numpy as np"
   ]
  },
  {
   "cell_type": "code",
   "execution_count": null,
   "metadata": {},
   "outputs": [],
   "source": [
    "#Get reasonable values from talking to Alex and Steven\n",
    "\n",
    "param_grid_rnn = {\n",
    "    'learning_rate': list(np.logspace(np.log10(0.0001), np.log10(0.1), base = 10, num = 1000)),\n",
    "    'class_weight_loss': [],\n",
    "    'minibatch_proportion': [0.01*float(i) for i in range(20, 70, 10)],\n",
    "    'window_size': [5, 10],\n",
    "    'momentum': list(range(None)),\n",
    "    'hiddin_units': list((64, 128, 256, 512)),\n",
    "    'minibatch_size': list((64, 128, 256)),\n",
    "    'layers': list(None),\n",
    "    'learning_rate_decay': list(range(None))\n",
    "}"
   ]
  },
  {
   "cell_type": "code",
   "execution_count": 4,
   "metadata": {},
   "outputs": [],
   "source": [
    "#parameter search grid for rnn convolution architecture\n",
    "\n",
    "\n",
    "param_grid_rnn = {\n",
    "    'learning_rate': list(np.logspace(np.log10(0.0001), np.log10(0.1), base = 10, num = 1000)),\n",
    "    'minibatch_proportion': [0.01*float(i) for i in range(20, 70, 10)],\n",
    "    'window_size': [5, 10],\n",
    "    'hiddin_units': list((64, 128, 256, 512)),\n",
    "    'minibatch_size': list((64, 128, 256))\n",
    "}"
   ]
  },
  {
   "cell_type": "code",
   "execution_count": 13,
   "metadata": {},
   "outputs": [],
   "source": [
    "#parameter search grid for 3D convolution architecture\n",
    "\n",
    "param_grid_conv3d = {\n",
    "    'learning_rate': list(np.logspace(np.log10(0.0001), np.log10(0.1), base = 10, num = 1000)),\n",
    "    'minibatch_proportion': [0.01*float(i) for i in range(20, 70, 10)],\n",
    "    'new_xydim': [i for i in range(25, 175, 25)],\n",
    "    'minibatch_size': list((64, 128, 256))\n",
    "}"
   ]
  },
  {
   "cell_type": "code",
   "execution_count": 14,
   "metadata": {},
   "outputs": [],
   "source": [
    "with open('/Users/mikey/seizure-detector/hp_grid_conv3D.json', 'w') as fp:\n",
    "    json.dump(param_grid_conv3d, fp, sort_keys=True, indent=4)"
   ]
  },
  {
   "cell_type": "code",
   "execution_count": 24,
   "metadata": {},
   "outputs": [],
   "source": [
    "with open('/Users/mikey/seizure-detector/hp_grid.json', 'w') as fp:\n",
    "    json.dump(param_grid_rnn, fp, sort_keys=True, indent=4)"
   ]
  }
 ],
 "metadata": {
  "kernelspec": {
   "display_name": "Python 3",
   "language": "python",
   "name": "python3"
  },
  "language_info": {
   "codemirror_mode": {
    "name": "ipython",
    "version": 3
   },
   "file_extension": ".py",
   "mimetype": "text/x-python",
   "name": "python",
   "nbconvert_exporter": "python",
   "pygments_lexer": "ipython3",
   "version": "3.7.1"
  }
 },
 "nbformat": 4,
 "nbformat_minor": 2
}
