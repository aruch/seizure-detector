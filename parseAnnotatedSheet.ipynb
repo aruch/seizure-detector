{
 "cells": [
  {
   "cell_type": "code",
   "execution_count": 134,
   "metadata": {},
   "outputs": [],
   "source": [
    "import pandas\n",
    "import numpy as np\n",
    "import re\n",
    "import math\n",
    "import xlrd"
   ]
  },
  {
   "cell_type": "code",
   "execution_count": 212,
   "metadata": {},
   "outputs": [],
   "source": [
    "test_csv = pandas.read_csv('Folder 3 - 1_18.csv')\n",
    "test_xls = pandas.ExcelFile('Folder 3.xlsx')\n",
    "\n",
    "position = '3'"
   ]
  },
  {
   "cell_type": "code",
   "execution_count": null,
   "metadata": {},
   "outputs": [],
   "source": [
    "def convertDate(date):\n",
    "    date = '2019-' + date[0:-2] + '-' + date[-2:]\n",
    "    return date\n",
    "#date = '2019-' + test_date[-4:].replace('/', '-')"
   ]
  },
  {
   "cell_type": "code",
   "execution_count": 98,
   "metadata": {},
   "outputs": [],
   "source": [
    "# Turn a hh:mm:ss string to number of seconds\n",
    "# hh: piece is optional\n",
    "\n",
    "HHMMSS_PAT = re.compile(\"(\\d+)??:??(\\d+):(\\d+)$\")\n",
    "def hhmmss_to_seconds(s):\n",
    "    m = HHMMSS_PAT.match(s)\n",
    "    g = m.groups()\n",
    "    s = 0\n",
    "    n = len(g)\n",
    "    for i in range(n):\n",
    "        if g[n-i-1] is not None:\n",
    "            s += 60**i * int(g[n-i-1])\n",
    "    return s"
   ]
  },
  {
   "cell_type": "code",
   "execution_count": 163,
   "metadata": {},
   "outputs": [],
   "source": [
    "def convertTime(time):\n",
    "    if time == time:\n",
    "        converted = []\n",
    "        time = time.replace(\" \", \"\")\n",
    "        for item in time.split(','):\n",
    "            time_to_convert = item.split('/')[0]\n",
    "            converted.append(hhmmss_to_seconds(time_to_convert))\n",
    "    else:\n",
    "        converted = []\n",
    "    return converted"
   ]
  },
  {
   "cell_type": "code",
   "execution_count": 213,
   "metadata": {
    "scrolled": true
   },
   "outputs": [],
   "source": [
    "def parseSheet(test_csv, date, position):\n",
    "    test_dict = {}\n",
    "\n",
    "    for item in test_csv.iterrows():\n",
    "        if item[0]>1:\n",
    "            seizures = {}\n",
    "            date_dict = {}\n",
    "            pos_dict = {}\n",
    "            seizures[mouse_labels[0]] = convertTime(item[1][2])\n",
    "            seizures[mouse_labels[1]] = convertTime(item[1][3])\n",
    "            seizures[mouse_labels[2]] = convertTime(item[1][4])\n",
    "            date_dict[date] = seizures\n",
    "            pos_dict[position] = date_dict\n",
    "            test_dict[item[1][0]] = pos_dict\n",
    "    \n",
    "    return test_dict"
   ]
  },
  {
   "cell_type": "code",
   "execution_count": 217,
   "metadata": {},
   "outputs": [],
   "source": [
    "all_sheets = {}\n",
    "\n",
    "for sheet in test_xls.sheet_names:\n",
    "    this_sheet = pandas.read_excel('Folder 3.xlsx', sheet_name=sheet)\n",
    "    date = convertDate(sheet)\n",
    "    position = '3'\n",
    "    new_dict = parseSheet(this_sheet, date, position)\n",
    "    all_sheets.update(new_dict)"
   ]
  },
  {
   "cell_type": "code",
   "execution_count": 218,
   "metadata": {},
   "outputs": [],
   "source": [
    "import json\n",
    "with open('seizure_annotations_3.json', 'w') as outfile:\n",
    "    json.dump(all_sheets, outfile)"
   ]
  },
  {
   "cell_type": "code",
   "execution_count": null,
   "metadata": {},
   "outputs": [],
   "source": []
  }
 ],
 "metadata": {
  "kernelspec": {
   "display_name": "Python 3",
   "language": "python",
   "name": "python3"
  },
  "language_info": {
   "codemirror_mode": {
    "name": "ipython",
    "version": 3
   },
   "file_extension": ".py",
   "mimetype": "text/x-python",
   "name": "python",
   "nbconvert_exporter": "python",
   "pygments_lexer": "ipython3",
   "version": "3.6.3"
  }
 },
 "nbformat": 4,
 "nbformat_minor": 2
}
