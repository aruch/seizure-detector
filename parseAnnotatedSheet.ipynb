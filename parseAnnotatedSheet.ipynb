{
 "cells": [
  {
   "cell_type": "code",
   "execution_count": 152,
   "metadata": {},
   "outputs": [],
   "source": [
    "import pandas as pd\n",
    "import numpy as np\n",
    "import re\n",
    "import math\n",
    "import xlrd\n",
    "import datetime"
   ]
  },
  {
   "cell_type": "code",
   "execution_count": 138,
   "metadata": {},
   "outputs": [],
   "source": [
    "#test_csv = pandas.read_csv('Folder 3 - 1_18.csv')\n",
    "test_xls = pandas.ExcelFile('/Users/mikey/Downloads/6down.xlsx')\n",
    "\n",
    "position = '6'"
   ]
  },
  {
   "cell_type": "code",
   "execution_count": null,
   "metadata": {},
   "outputs": [],
   "source": [
    "tab1 = pd.read_excel(test_xls, 0)\n",
    "tab1.head()"
   ]
  },
  {
   "cell_type": "code",
   "execution_count": null,
   "metadata": {},
   "outputs": [],
   "source": [
    "def convertDate(date):\n",
    "    date = '2019-' + date[0:-2] + '-' + date[-2:]\n",
    "    return date\n",
    "#date = '2019-' + test_date[-4:].replace('/', '-')"
   ]
  },
  {
   "cell_type": "code",
   "execution_count": null,
   "metadata": {},
   "outputs": [],
   "source": [
    "# Turn a hh:mm:ss string to number of seconds\n",
    "# hh: piece is optional\n",
    "\n",
    "HHMMSS_PAT = re.compile(\"(\\d+)??:??(\\d+):(\\d+)$\")\n",
    "def hhmmss_to_seconds(s):\n",
    "    m = HHMMSS_PAT.match(s)\n",
    "    g = m.groups()\n",
    "    s = 0\n",
    "    n = len(g)\n",
    "    for i in range(n):\n",
    "        if g[n-i-1] is not None:\n",
    "            s += 60**i * int(g[n-i-1])\n",
    "    return s"
   ]
  },
  {
   "cell_type": "code",
   "execution_count": null,
   "metadata": {},
   "outputs": [],
   "source": [
    "def convertTime(time):\n",
    "    if time == time:\n",
    "        converted = []\n",
    "        time = time.replace(\" \", \"\")\n",
    "        for item in time.split(','):\n",
    "            time_to_convert = item.split('/')[0]\n",
    "            converted.append(hhmmss_to_seconds(time_to_convert))\n",
    "    else:\n",
    "        converted = []\n",
    "    return converted"
   ]
  },
  {
   "cell_type": "code",
   "execution_count": 188,
   "metadata": {},
   "outputs": [],
   "source": [
    "mouse_labels = ('mouse1', 'mouse2', 'mouse3', 'mouse4', 'mouse5', 'mouse6')"
   ]
  },
  {
   "cell_type": "code",
   "execution_count": 287,
   "metadata": {
    "scrolled": true
   },
   "outputs": [],
   "source": [
    "def parseSheet(test_csv, date, position, mouse_labels):\n",
    "    test_dict = {}\n",
    "    log = []\n",
    "    \n",
    "    #Check that date location is correct\n",
    "    try:\n",
    "        isinstance(test_csv.columns.values[1], datetime.datetime)\n",
    "    except:\n",
    "            return {}, ['Date (or file more generally) is possibly not formatted correctly']\n",
    "    \n",
    "    #Check that Video information is in expected location in sheet\n",
    "    try:\n",
    "        isinstance(test_csv.loc[2][0], str)\n",
    "        #print(position, date, test_csv.loc[2][0])\n",
    "    except:\n",
    "            return {}, ['File is possibly not formatted correctly']\n",
    "    \n",
    "    #Extract annotation info and convert into usable format\n",
    "    for item in test_csv.iterrows():\n",
    "        if item[0]>3 and item[1][0] is np.nan:       #An empty row indicates end of confident annotations\n",
    "            break\n",
    "        elif item[0]>3:\n",
    "            try:          \n",
    "                seizures = {}\n",
    "                date_dict = {}\n",
    "                pos_dict = {}\n",
    "                for i, key in enumerate(mouse_labels):\n",
    "                    seizures[key] = convertTime(item[1][i+2])\n",
    "                date_dict[date] = seizures\n",
    "                pos_dict[position] = date_dict\n",
    "                test_dict[item[1][0]] = pos_dict\n",
    "            except Exception as error:\n",
    "                    log_key = item[1][0] + '_' + 'line' + str(item[0] + 2) + '  ' + str(error)\n",
    "                    log.append(log_key)\n",
    "                    print('There was an issue with the annotation for sheet %s, movie %s' % (date, item[1][0]))\n",
    "                \n",
    "    return test_dict, log"
   ]
  },
  {
   "cell_type": "code",
   "execution_count": 288,
   "metadata": {},
   "outputs": [],
   "source": [
    "#Generate position_dict\n",
    "\n",
    "params_dict = {\n",
    "    \n",
    "    '3': (('66-2', '70-3', '72-2'), '/Users/mikey/Downloads/Folder3.xlsx'),\n",
    "    '4': (('65-3', '74-2','71-2', '65-1'), '/Users/mikey/Downloads/Folder4.xlsx'),\n",
    "    '6 up': (('74-1', '68-2', '65-2', '73-2', '70-1', '73-3'), '/Users/mikey/Downloads/6UP.xlsx'),\n",
    "    '6 down': (('73-1', '75-2', '66-1', '69-3', '70-2', '71-1'), '/Users/mikey/Downloads/6down.xlsx')\n",
    "    \n",
    "}"
   ]
  },
  {
   "cell_type": "code",
   "execution_count": 291,
   "metadata": {},
   "outputs": [
    {
     "name": "stdout",
     "output_type": "stream",
     "text": [
      "There was an issue with the annotation for sheet 2019--28, movie M2U00408\n",
      "There was an issue with the annotation for sheet 2019--29, movie M2U00433\n",
      "There was an issue with the annotation for sheet 2019-2-10, movie M2U00440\n",
      "There was an issue with the annotation for sheet 2019-1-18, movie M2U00041\n",
      "There was an issue with the annotation for sheet 2019-1-20, movie M2U00015\n",
      "There was an issue with the annotation for sheet 2019-1-22, movie M2U00043\n",
      "There was an issue with the annotation for sheet 2019-1-28, movie M2U00172\n",
      "There was an issue with the annotation for sheet 2019-1-31, movie M2U00231\n",
      "There was an issue with the annotation for sheet 2019--25, movie M2U00346\n",
      "There was an issue with the annotation for sheet 2019--26, movie M2U00364\n",
      "There was an issue with the annotation for sheet 2019-2-10, movie M2U00440\n",
      "There was an issue with the annotation for sheet 2019-2-11, movie M2U00467\n",
      "There was an issue with the annotation for sheet 2019-2-19, movie M2U000625\n",
      "There was an issue with the annotation for sheet 2019-01-22, movie MAH00039\n",
      "There was an issue with the annotation for sheet 2019-01-24, movie MAH00049\n",
      "There was an issue with the annotation for sheet 2019-0124-19, movie MAH00053\n",
      "There was an issue with the annotation for sheet 2019-125-19, movie MAH00059\n",
      "There was an issue with the annotation for sheet 2019-27-19, movie MAH00112\n",
      "There was an issue with the annotation for sheet 2019-211-19, movie MAH00036\n",
      "There was an issue with the annotation for sheet 2019-212-19, movie MAH00041\n",
      "There was an issue with the annotation for sheet 2019-212-19, movie MAH00046\n",
      "There was an issue with the annotation for sheet 2019-214-19, movie MAH00053\n",
      "There was an issue with the annotation for sheet 2019-217-19, movie MAH00073\n",
      "There was an issue with the annotation for sheet 2019-217-19, movie MAH00075\n",
      "There was an issue with the annotation for sheet 2019-218-19, movie 00001\n",
      "There was an issue with the annotation for sheet 2019-218-19, movie 00002\n",
      "There was an issue with the annotation for sheet 2019-219-19, movie MAH00077\n",
      "There was an issue with the annotation for sheet 2019-219-19, movie MAH00078\n"
     ]
    }
   ],
   "source": [
    "#Extract annotations for all videos\n",
    "all_sheets = {}\n",
    "error_log = {'3':{}, '4':{}, '6 up':{}, '6 down':{}}\n",
    "\n",
    "for position, value in params_dict.items():\n",
    "    filename = value[1]\n",
    "    mouse_labels = value[0]\n",
    "    \n",
    "    test_xls = pandas.ExcelFile(filename)  \n",
    "    \n",
    "    for sheet in test_xls.sheet_names:\n",
    "        this_sheet = pandas.read_excel(test_xls, sheet_name=sheet)\n",
    "        date = convertDate(sheet)\n",
    "        #position = '3'\n",
    "        new_dict, log = parseSheet(this_sheet, date, position, mouse_labels)\n",
    "        if new_dict:\n",
    "            all_sheets.update(new_dict)\n",
    "        if log:\n",
    "            error_log[position].update({date:log})\n",
    "    "
   ]
  },
  {
   "cell_type": "code",
   "execution_count": 280,
   "metadata": {},
   "outputs": [
    {
     "data": {
      "text/plain": [
       "{'MAH00079': {'6 down': {'2019-219-19': {'73-1': [],\n",
       "    '75-2': [632],\n",
       "    '66-1': [470],\n",
       "    '69-3': [],\n",
       "    '70-2': [3457],\n",
       "    '71-1': []}}},\n",
       " 'MAH00080': {'6 down': {'2019-219-19': {'73-1': [],\n",
       "    '75-2': [1433, 4466],\n",
       "    '66-1': [],\n",
       "    '69-3': [],\n",
       "    '70-2': [],\n",
       "    '71-1': []}}},\n",
       " 'MAH00081': {'6 down': {'2019-219-19': {'73-1': [],\n",
       "    '75-2': [1407, 2267, 2880],\n",
       "    '66-1': [],\n",
       "    '69-3': [],\n",
       "    '70-2': [1268, 3513],\n",
       "    '71-1': []}}}}"
      ]
     },
     "execution_count": 280,
     "metadata": {},
     "output_type": "execute_result"
    }
   ],
   "source": [
    "new_dict"
   ]
  },
  {
   "cell_type": "code",
   "execution_count": 292,
   "metadata": {},
   "outputs": [
    {
     "data": {
      "text/plain": [
       "{'3': {'2019--28': [\"M2U00408_line24  'NoneType' object has no attribute 'groups'\"],\n",
       "  '2019--29': [\"M2U00433_line27  'NoneType' object has no attribute 'groups'\"],\n",
       "  '2019-2-10': [\"M2U00440_line9  'NoneType' object has no attribute 'groups'\"]},\n",
       " '4': {'2019-1-18': [\"M2U00041_line14  'NoneType' object has no attribute 'groups'\"],\n",
       "  '2019-1-20': [\"M2U00015_line19  'NoneType' object has no attribute 'groups'\"],\n",
       "  '2019-1-22': [\"M2U00043_line6  'NoneType' object has no attribute 'groups'\"],\n",
       "  '2019-1-28': [\"M2U00172_line13  'NoneType' object has no attribute 'groups'\"],\n",
       "  '2019-1-31': [\"M2U00231_line12  'NoneType' object has no attribute 'groups'\"],\n",
       "  '2019--25': [\"M2U00346_line22  'NoneType' object has no attribute 'groups'\"],\n",
       "  '2019--26': [\"M2U00364_line20  'NoneType' object has no attribute 'groups'\"],\n",
       "  '2019-2-10': [\"M2U00440_line9  'NoneType' object has no attribute 'groups'\"],\n",
       "  '2019-2-11': [\"M2U00467_line13  'NoneType' object has no attribute 'groups'\"],\n",
       "  '2019-2-19': [\"M2U000625_line10  'NoneType' object has no attribute 'groups'\"]},\n",
       " '6 up': {'2019-01-22': [\"MAH00039_line10  'NoneType' object has no attribute 'groups'\"],\n",
       "  '2019-01-24': [\"MAH00049_line7  'NoneType' object has no attribute 'groups'\"],\n",
       "  '2019--Q': ['File is possibly not formatted correctly']},\n",
       " '6 down': {'2019-121-19': ['File is possibly not formatted correctly'],\n",
       "  '2019-0124-19': ['MAH00053_line11  an integer is required (got type str)'],\n",
       "  '2019-125-19': [\"MAH00059_line10  'NoneType' object has no attribute 'groups'\"],\n",
       "  '2019-27-19': [\"MAH00112_line7  'NoneType' object has no attribute 'groups'\"],\n",
       "  '2019-211-19': [\"MAH00036_line8  'NoneType' object has no attribute 'groups'\"],\n",
       "  '2019-212-19': [\"MAH00041_line6  'NoneType' object has no attribute 'groups'\",\n",
       "   \"MAH00046_line11  'NoneType' object has no attribute 'groups'\"],\n",
       "  '2019-213-19': ['File is possibly not formatted correctly'],\n",
       "  '2019-214-19': [\"MAH00053_line10  'NoneType' object has no attribute 'groups'\"],\n",
       "  '2019-217-19': [\"MAH00073_line9  'NoneType' object has no attribute 'groups'\",\n",
       "   \"MAH00075_line11  'NoneType' object has no attribute 'groups'\"],\n",
       "  '2019-218-19': [\"00001_line6  'NoneType' object has no attribute 'groups'\",\n",
       "   \"00002_line7  'NoneType' object has no attribute 'groups'\"],\n",
       "  '2019-219-19': [\"MAH00077_line6  'NoneType' object has no attribute 'groups'\",\n",
       "   \"MAH00078_line7  'NoneType' object has no attribute 'groups'\"]}}"
      ]
     },
     "execution_count": 292,
     "metadata": {},
     "output_type": "execute_result"
    }
   ],
   "source": [
    "error_log"
   ]
  },
  {
   "cell_type": "code",
   "execution_count": 204,
   "metadata": {},
   "outputs": [],
   "source": [
    "#Export json \n",
    "import json\n",
    "with open('seizure_annotations_test.json', 'w') as outfile:\n",
    "    json.dump(all_sheets, outfile)"
   ]
  },
  {
   "cell_type": "code",
   "execution_count": null,
   "metadata": {},
   "outputs": [],
   "source": [
    "test_dict = parseSheet(test_csv, )"
   ]
  }
 ],
 "metadata": {
  "kernelspec": {
   "display_name": "Python 3",
   "language": "python",
   "name": "python3"
  },
  "language_info": {
   "codemirror_mode": {
    "name": "ipython",
    "version": 3
   },
   "file_extension": ".py",
   "mimetype": "text/x-python",
   "name": "python",
   "nbconvert_exporter": "python",
   "pygments_lexer": "ipython3",
   "version": "3.7.1"
  }
 },
 "nbformat": 4,
 "nbformat_minor": 2
}
