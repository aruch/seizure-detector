{
 "cells": [
  {
   "cell_type": "code",
   "execution_count": 70,
   "metadata": {},
   "outputs": [],
   "source": [
    "import pandas\n",
    "import numpy as np\n",
    "import re\n",
    "import math\n",
    "import xlrd\n",
    "import collections"
   ]
  },
  {
   "cell_type": "code",
   "execution_count": 9,
   "metadata": {},
   "outputs": [],
   "source": [
    "#test_csv = pandas.read_csv('Folder 3 - 1_18.csv')\n",
    "test_xls = pandas.ExcelFile('Folder 3.xlsx')\n",
    "\n",
    "position = '3'"
   ]
  },
  {
   "cell_type": "code",
   "execution_count": 3,
   "metadata": {},
   "outputs": [],
   "source": [
    "# Convert date to consistent format\n",
    "\n",
    "def convertDate(date):\n",
    "    date = '2019-' + date[0:-2] + '-' + date[-2:]\n",
    "    return date\n",
    "#date = '2019-' + test_date[-4:].replace('/', '-')"
   ]
  },
  {
   "cell_type": "code",
   "execution_count": 4,
   "metadata": {},
   "outputs": [],
   "source": [
    "# Turn a hh:mm:ss string to number of seconds\n",
    "# hh: piece is optional\n",
    "\n",
    "HHMMSS_PAT = re.compile(\"(\\d+)??:??(\\d+):(\\d+)$\")\n",
    "def hhmmss_to_seconds(s):\n",
    "    m = HHMMSS_PAT.match(s)\n",
    "    g = m.groups()\n",
    "    s = 0\n",
    "    n = len(g)\n",
    "    for i in range(n):\n",
    "        if g[n-i-1] is not None:\n",
    "            s += 60**i * int(g[n-i-1])\n",
    "    return s"
   ]
  },
  {
   "cell_type": "code",
   "execution_count": 5,
   "metadata": {},
   "outputs": [],
   "source": [
    "# Will take time in format hh:mm:ss/hh:mm:ss, hh:mm:ss/hh:mm:ss and convert to list of start times converted to seconds\n",
    "\n",
    "def convertTime(time):\n",
    "    if time == time:\n",
    "        converted = []\n",
    "        time = time.replace(\" \", \"\")\n",
    "        for item in time.split(','):\n",
    "            time_to_convert = item.split('/')[0]\n",
    "            converted.append(hhmmss_to_seconds(time_to_convert))\n",
    "    else:\n",
    "        converted = []\n",
    "    return converted"
   ]
  },
  {
   "cell_type": "code",
   "execution_count": 75,
   "metadata": {
    "scrolled": true
   },
   "outputs": [],
   "source": [
    "# Parse through sheet using pandas to iterate through rows, assumes mouse labels are on 3rd row (index =1 since pandas takes the first row as a header)\n",
    "\n",
    "\n",
    "def parseSheet(test_csv, date, position):\n",
    "    test_dict = {}\n",
    "\n",
    "    for item, entries in test_csv.iterrows():\n",
    "        # Collect mouse labels from row 3\n",
    "        if item == 1:\n",
    "            mouse_labels = entries.values\n",
    "            mouse_labels = mouse_labels[~pandas.isnull(mouse_labels)]\n",
    "        #In subsequent rows, collect times and put into nested dictionary\n",
    "        if item>1:\n",
    "            seizures = {}\n",
    "            date_dict = {}\n",
    "            pos_dict = {}\n",
    "            n = 2;\n",
    "            for label in mouse_labels:\n",
    "                seizures[label] = convertTime(entries.values[n])\n",
    "                n +=1\n",
    "            date_dict[date] = seizures\n",
    "            pos_dict[position] = date_dict\n",
    "            test_dict[entries.values[0]] = pos_dict\n",
    "\n",
    "    return test_dict"
   ]
  },
  {
   "cell_type": "code",
   "execution_count": 71,
   "metadata": {},
   "outputs": [],
   "source": [
    "# Update dict without overwriting existing keys\n",
    "# Stolen from here: https://stackoverflow.com/questions/3232943/update-value-of-a-nested-dictionary-of-varying-depth\n",
    "\n",
    "def updateDict(d, u):\n",
    "    for k, v in u.items():\n",
    "        if isinstance(v, collections.Mapping):\n",
    "            d[k] = updateDict(d.get(k, {}), v)\n",
    "        else:\n",
    "            d[k] = v\n",
    "    return d"
   ]
  },
  {
   "cell_type": "code",
   "execution_count": 72,
   "metadata": {},
   "outputs": [],
   "source": [
    "# Parse through given excel file with multiple sheets given a specific position and assuming sheet dates are MDD\n",
    "all_sheets = {}\n",
    "\n",
    "for sheet in test_xls.sheet_names:\n",
    "    this_sheet = pandas.read_excel('Folder 3.xlsx', sheet_name=sheet)\n",
    "    date = convertDate(sheet)\n",
    "    position = '3'\n",
    "    new_dict = parseSheet(this_sheet, date, position)\n",
    "    all_sheets = updateDict(all_sheets, new_dict)"
   ]
  },
  {
   "cell_type": "code",
   "execution_count": 74,
   "metadata": {},
   "outputs": [],
   "source": [
    "# Export json file\n",
    "import json\n",
    "with open('seizure_annotations_3.json', 'w') as outfile:\n",
    "    json.dump(all_sheets, outfile)"
   ]
  },
  {
   "cell_type": "code",
   "execution_count": null,
   "metadata": {},
   "outputs": [],
   "source": [
    "for item, stuff in test_csv.iterrows():\n",
    "    print(stuff.values)"
   ]
  },
  {
   "cell_type": "code",
   "execution_count": null,
   "metadata": {},
   "outputs": [],
   "source": []
  }
 ],
 "metadata": {
  "kernelspec": {
   "display_name": "Python 3",
   "language": "python",
   "name": "python3"
  },
  "language_info": {
   "codemirror_mode": {
    "name": "ipython",
    "version": 3
   },
   "file_extension": ".py",
   "mimetype": "text/x-python",
   "name": "python",
   "nbconvert_exporter": "python",
   "pygments_lexer": "ipython3",
   "version": "3.6.3"
  }
 },
 "nbformat": 4,
 "nbformat_minor": 2
}
